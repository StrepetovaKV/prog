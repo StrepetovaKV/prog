{
  "nbformat": 4,
  "nbformat_minor": 0,
  "metadata": {
    "colab": {
      "provenance": [],
      "authorship_tag": "ABX9TyPHHu5mfiIpCMTz3fWdfbDs",
      "include_colab_link": true
    },
    "kernelspec": {
      "name": "python3",
      "display_name": "Python 3"
    },
    "language_info": {
      "name": "python"
    }
  },
  "cells": [
    {
      "cell_type": "markdown",
      "metadata": {
        "id": "view-in-github",
        "colab_type": "text"
      },
      "source": [
        "<a href=\"https://colab.research.google.com/github/StrepetovaKV/prog/blob/main/Untitled10.ipynb\" target=\"_parent\"><img src=\"https://colab.research.google.com/assets/colab-badge.svg\" alt=\"Open In Colab\"/></a>"
      ]
    },
    {
      "cell_type": "code",
      "execution_count": 1,
      "metadata": {
        "colab": {
          "base_uri": "https://localhost:8080/"
        },
        "id": "vI72nq08yAXV",
        "outputId": "d6247e47-cbc7-47b1-86b3-ca12892c73a4"
      },
      "outputs": [
        {
          "output_type": "stream",
          "name": "stdout",
          "text": [
            "Введите x: -9\n",
            "Введите y: 0\n",
            "Ответ: 0.33\n"
          ]
        }
      ],
      "source": [
        "# Задание 3.1\n",
        "def sgn(x):\n",
        "    \"\"\"Сигнум-функция\"\"\"\n",
        "    if x > 0:\n",
        "        return 1\n",
        "    elif x == 0:\n",
        "        return 0\n",
        "    else:\n",
        "        return -1\n",
        "\n",
        "x = float(input(\"Введите x: \"))\n",
        "y = float(input(\"Введите y: \"))\n",
        "\n",
        "# Используем модуль x под корнем\n",
        "denominator = sgn(y) - (abs(x))**0.5\n",
        "\n",
        "if denominator == 0:\n",
        "    print(\"Ошибка: знаменатель равен нулю\")\n",
        "else:\n",
        "    z = (sgn(x) + y**2) / denominator\n",
        "    print(\"Ответ:\", round(z, 2))"
      ]
    },
    {
      "cell_type": "code",
      "source": [
        "# Задание 3.2\n",
        "\n",
        "def avg(data):\n",
        "    \"\"\"Вернуть среднее значение 'data'.\n",
        "\n",
        "    Параметры:\n",
        "        data (list): список числовых значений.\n",
        "\n",
        "    Результат:\n",
        "        float: среднее значение элементов списка.\n",
        "    \"\"\"\n",
        "    return sum(data) / len(data)\n",
        "\n",
        "\n",
        "def cleared_data(data):\n",
        "    \"\"\"Вернуть список без значений None.\n",
        "\n",
        "    Параметры:\n",
        "        data (list): исходный список с возможными значениями None.\n",
        "\n",
        "    Результат:\n",
        "        list: список без значений None.\n",
        "    \"\"\"\n",
        "    return [x for x in data if x is not None]\n",
        "\n",
        "\n",
        "n = int(input(\"Кол-во измерений: \"))\n",
        "data = []\n",
        "for i in range(n):\n",
        "    measurement = input(f\"Измерение {i+1}-е: \")\n",
        "    if measurement == '-':\n",
        "        data.append(None)\n",
        "    else:\n",
        "        data.append(int(measurement))\n",
        "\n",
        "cleaned = cleared_data(data)\n",
        "average = avg(cleaned)\n",
        "\n",
        "print(f\"Средняя температура: {average:.2f}\")"
      ],
      "metadata": {
        "colab": {
          "base_uri": "https://localhost:8080/"
        },
        "id": "0uMpA8KeyFAB",
        "outputId": "083181f6-37e8-437d-da19-de30afd1dff0"
      },
      "execution_count": 3,
      "outputs": [
        {
          "output_type": "stream",
          "name": "stdout",
          "text": [
            "Кол-во измерений: 3\n",
            "Измерение 1-е: 10\n",
            "Измерение 2-е: -\n",
            "Измерение 3-е: 20\n",
            "Средняя температура: 15.00\n"
          ]
        }
      ]
    },
    {
      "cell_type": "code",
      "source": [
        "# Задание 3.3\n",
        "\n",
        "def is_lucky(num):\n",
        "    \"\"\"Является ли 'num' номером счастливого билета?\n",
        "\n",
        "    Параметры:\n",
        "        num (int): номер билета для проверки.\n",
        "\n",
        "    Результат:\n",
        "        bool: True - если количество четных и нечетных цифр равно, False - иначе.\n",
        "    \"\"\"\n",
        "    even = 0\n",
        "    odd = 0\n",
        "    for digit in str(num):\n",
        "        if int(digit) % 2 == 0:\n",
        "            even += 1\n",
        "        else:\n",
        "            odd += 1\n",
        "    return even == odd\n",
        "\n",
        "\n",
        "def lucky_numbers(a, b):\n",
        "    \"\"\"Вернуть список счастливых номеров от 'a' до 'b'.\n",
        "\n",
        "    Параметры:\n",
        "        a (int): начальный номер диапазона\n",
        "        b (int): конечный номер диапазона\n",
        "\n",
        "    Результат:\n",
        "        list: список счастливых номеров\n",
        "    \"\"\"\n",
        "    return [num for num in range(a, b + 1) if is_lucky(num)]\n",
        "\n",
        "\n",
        "a = int(input(\"Первый номер билета: \"))\n",
        "b = int(input(\"Последний номер билета: \"))\n",
        "\n",
        "result = lucky_numbers(a, b)\n",
        "print(' '.join(map(str, result)))"
      ],
      "metadata": {
        "colab": {
          "base_uri": "https://localhost:8080/"
        },
        "id": "UR5lE4u2yFG7",
        "outputId": "6b06688e-d0f6-4cc0-8494-1a1276e6d3bb"
      },
      "execution_count": 4,
      "outputs": [
        {
          "output_type": "stream",
          "name": "stdout",
          "text": [
            "Первый номер билета: 10\n",
            "Последний номер билета: 25\n",
            "10 12 14 16 18 21 23 25\n"
          ]
        }
      ]
    },
    {
      "cell_type": "code",
      "source": [
        "# Задание 3.4\n",
        "\n",
        "def is_leap(year):\n",
        "    \"\"\"Является ли 'year' високосным годом?\n",
        "\n",
        "    Параметры:\n",
        "        year (int): год для проверки\n",
        "\n",
        "    Результат:\n",
        "        bool: True - да, False - нет\n",
        "    \"\"\"\n",
        "    if year % 4 != 0:\n",
        "        return False\n",
        "    elif year % 100 != 0:\n",
        "        return True\n",
        "    else:\n",
        "        return year % 400 == 0\n",
        "\n",
        "\n",
        "def days(month, year):\n",
        "    \"\"\"Вернуть количество дней в месяце 'month' года 'year'.\n",
        "\n",
        "    Параметры:\n",
        "        month (int): номер месяца (1-12)\n",
        "        year (int): год\n",
        "\n",
        "    Результат:\n",
        "        int: количество дней в месяце\n",
        "    \"\"\"\n",
        "    if month == 2:\n",
        "        return 29 if is_leap(year) else 28\n",
        "    elif month in [4, 6, 9, 11]:\n",
        "        return 30\n",
        "    else:\n",
        "        return 31\n",
        "\n",
        "\n",
        "def previous_date(day, month, year):\n",
        "    \"\"\"Вернуть день, месяц, год предыдущего дня.\n",
        "\n",
        "    Параметры:\n",
        "        day (int): день\n",
        "        month (int): месяц\n",
        "        year (int): год\n",
        "\n",
        "    Результат:\n",
        "        tuple: (day, month, year) предыдущей даты\n",
        "    \"\"\"\n",
        "    if day > 1:\n",
        "        return (day-1, month, year)\n",
        "\n",
        "    if month > 1:\n",
        "        prev_month = month - 1\n",
        "        prev_day = days(prev_month, year)\n",
        "        return (prev_day, prev_month, year)\n",
        "    else:\n",
        "        return (31, 12, year-1)\n",
        "\n",
        "\n",
        "def next_date(day, month, year):\n",
        "    \"\"\"Вернуть день, месяц, год следующего дня.\n",
        "\n",
        "    Параметры:\n",
        "        day (int): день\n",
        "        month (int): месяц\n",
        "        year (int): год\n",
        "\n",
        "    Результат:\n",
        "        tuple: (day, month, year) следующей даты\n",
        "    \"\"\"\n",
        "    month_days = days(month, year)\n",
        "\n",
        "    if day < month_days:\n",
        "        return (day+1, month, year)\n",
        "\n",
        "    if month < 12:\n",
        "        return (1, month+1, year)\n",
        "    else:\n",
        "        return (1, 1, year+1)\n",
        "\n",
        "\n",
        "# Ввод данных\n",
        "day, month, year = map(int, input(\"День, месяц, год через пробел: \").split())\n",
        "\n",
        "# Вычисление дат\n",
        "prev_day, prev_month, prev_year = previous_date(day, month, year)\n",
        "next_day, next_month, next_year = next_date(day, month, year)\n",
        "\n",
        "# Вывод результатов\n",
        "print(f\"Предыдущий день: {prev_day:02d}/{prev_month:02d}/{prev_year}\")\n",
        "print(f\"Следующий день: {next_day:02d}/{next_month:02d}/{next_year}\")\n"
      ],
      "metadata": {
        "colab": {
          "base_uri": "https://localhost:8080/"
        },
        "id": "AFq_4Cl9yFOe",
        "outputId": "f5a9c9c4-f46f-4fa8-bff5-04bae78b93a5"
      },
      "execution_count": 5,
      "outputs": [
        {
          "output_type": "stream",
          "name": "stdout",
          "text": [
            "День, месяц, год через пробел: 1 3 2000\n",
            "Предыдущий день: 29/02/2000\n",
            "Следующий день: 02/03/2000\n"
          ]
        }
      ]
    },
    {
      "cell_type": "code",
      "source": [
        "# Задание 3.5\n",
        "\n",
        "def is_leap(year):\n",
        "    \"\"\"Является ли 'year' високосным годом?\n",
        "\n",
        "    Параметры:\n",
        "        year (int): год для проверки\n",
        "\n",
        "    Результат:\n",
        "        bool: True - да, False - нет\n",
        "    \"\"\"\n",
        "    return year % 4 == 0 and (year % 100 != 0 or year % 400 == 0)\n",
        "\n",
        "\n",
        "def days(month, year):\n",
        "    \"\"\"Вернуть количество дней в месяце 'month' года 'year'.\n",
        "\n",
        "    Параметры:\n",
        "        month (int): номер месяца (1-12)\n",
        "        year (int): год\n",
        "\n",
        "    Результат:\n",
        "        int: количество дней в месяце\n",
        "    \"\"\"\n",
        "    if month == 2:\n",
        "        return 29 if is_leap(year) else 28\n",
        "    elif month in [4, 6, 9, 11]:\n",
        "        return 30\n",
        "    else:\n",
        "        return 31\n",
        "\n",
        "\n",
        "def another_date(day, month, year, delta=1):\n",
        "    \"\"\"Вернуть день, месяц, год, отличающийся на 'delta' дней.\n",
        "\n",
        "    Параметры:\n",
        "        day (int): начальный день\n",
        "        month (int): начальный месяц\n",
        "        year (int): начальный год\n",
        "        delta (int): количество дней для добавления (может быть отрицательным)\n",
        "\n",
        "    Результат:\n",
        "        tuple: (day, month, year) новой даты\n",
        "    \"\"\"\n",
        "\n",
        "    def next_date(day, month, year):\n",
        "        \"\"\"Получить следующую дату\"\"\"\n",
        "        month_days = days(month, year)\n",
        "        if day < month_days:\n",
        "            return (day + 1, month, year)\n",
        "        if month < 12:\n",
        "            return (1, month + 1, year)\n",
        "        return (1, 1, year + 1)\n",
        "\n",
        "    def previous_date(day, month, year):\n",
        "        \"\"\"Получить предыдущую дату\"\"\"\n",
        "        if day > 1:\n",
        "            return (day - 1, month, year)\n",
        "        if month > 1:\n",
        "            prev_month = month - 1\n",
        "            return (days(prev_month, year), prev_month, year)\n",
        "        return (31, 12, year - 1)\n",
        "\n",
        "    current_day, current_month, current_year = day, month, year\n",
        "\n",
        "    if delta > 0:\n",
        "        for _ in range(delta):\n",
        "            current_day, current_month, current_year = next_date(current_day, current_month, current_year)\n",
        "    elif delta < 0:\n",
        "        for _ in range(-delta):\n",
        "            current_day, current_month, current_year = previous_date(current_day, current_month, current_year)\n",
        "\n",
        "    return current_day, current_month, current_year\n",
        "\n",
        "\n",
        "# Ввод данных\n",
        "day, month, year = map(int, input(\"День, месяц, год через пробел: \").split())\n",
        "delta = int(input(\"Сдвиг (может быть отрицательным): \"))\n",
        "\n",
        "# Вычисление новой даты\n",
        "new_day, new_month, new_year = another_date(day, month, year, delta)\n",
        "\n",
        "# Вывод результата\n",
        "print(f\"Новый день: {new_day:02d}/{new_month:02d}/{new_year}\")"
      ],
      "metadata": {
        "colab": {
          "base_uri": "https://localhost:8080/"
        },
        "id": "9JD1U0-KyFUt",
        "outputId": "391175f3-8d40-45e9-ad32-83914e583217"
      },
      "execution_count": 7,
      "outputs": [
        {
          "output_type": "stream",
          "name": "stdout",
          "text": [
            "День, месяц, год через пробел: 1 1 2000\n",
            "Сдвиг (может быть отрицательным): 2\n",
            "Новый день: 03/01/2000\n"
          ]
        }
      ]
    },
    {
      "cell_type": "code",
      "source": [
        "# Задание 3.6\n",
        "\n",
        "def gcd(first, second):\n",
        "    \"\"\"Вернуть НОД целых чисел 'first' и 'second'.\"\"\"\n",
        "    while second:\n",
        "        first, second = second, first % second\n",
        "    return abs(first)\n",
        "\n",
        "\n",
        "def lcm(first, second):\n",
        "    \"\"\"Вернуть НОК целых чисел 'first' и 'second'.\"\"\"\n",
        "    return abs(first * second) // gcd(first, second) if first and second else 0\n",
        "\n",
        "\n",
        "def gcd_nums(nums):\n",
        "    \"\"\"Вернуть НОД чисел из списка 'nums'.\n",
        "\n",
        "    Параметры:\n",
        "        nums (list): список целых чисел\n",
        "\n",
        "    Результат:\n",
        "        int: НОД всех чисел списка\n",
        "    \"\"\"\n",
        "    current_gcd = nums[0]\n",
        "    for num in nums[1:]:\n",
        "        current_gcd = gcd(current_gcd, num)\n",
        "        if current_gcd == 1:\n",
        "            break\n",
        "    return current_gcd\n",
        "\n",
        "\n",
        "def lcm_nums(nums):\n",
        "    \"\"\"Вернуть НОК чисел из списка 'nums'.\n",
        "\n",
        "    Параметры:\n",
        "        nums (list): список целых чисел\n",
        "\n",
        "    Результат:\n",
        "        int: НОК всех чисел списка\n",
        "    \"\"\"\n",
        "    current_lcm = nums[0]\n",
        "    for num in nums[1:]:\n",
        "        current_lcm = lcm(current_lcm, num)\n",
        "    return current_lcm\n",
        "\n",
        "\n",
        "nums = list(map(int, input(\"Введите числа через пробел: \").split()))\n",
        "\n",
        "print(f\"НОД = {gcd_nums(nums)}\")\n",
        "print(f\"НОК = {lcm_nums(nums)}\")"
      ],
      "metadata": {
        "colab": {
          "base_uri": "https://localhost:8080/"
        },
        "id": "opzUMNkxyFbP",
        "outputId": "e2817c32-edb1-402a-e231-02a580437a68"
      },
      "execution_count": 8,
      "outputs": [
        {
          "output_type": "stream",
          "name": "stdout",
          "text": [
            "Введите числа через пробел: 8 10 14\n",
            "НОД = 2\n",
            "НОК = 280\n"
          ]
        }
      ]
    },
    {
      "cell_type": "code",
      "source": [
        "# Задание 3.7\n",
        "\n",
        "def has_digits(sentence):\n",
        "    \"\"\"Проверить, содержит ли предложение хотя бы одну цифру.\n",
        "\n",
        "    Параметры:\n",
        "        sentence (str): предложение для проверки\n",
        "\n",
        "    Результат:\n",
        "        bool: True если содержит цифры, False если нет\n",
        "    \"\"\"\n",
        "    return any(char.isdigit() for char in sentence)\n",
        "\n",
        "\n",
        "def sentences_with_digits_count(sentences):\n",
        "    \"\"\"Подсчитать количество предложений, содержащих цифры.\n",
        "\n",
        "    Параметры:\n",
        "        sentences (list): список предложений\n",
        "\n",
        "    Результат:\n",
        "        int: количество предложений с цифрами\n",
        "    \"\"\"\n",
        "    return sum(1 for sentence in sentences if has_digits(sentence))\n",
        "\n",
        "\n",
        "n = int(input(\"Введите количество предложений: \"))\n",
        "sentences = []\n",
        "for i in range(n):\n",
        "    sentence = input(f\"Введите предложение №{i+1}:\\n\")\n",
        "    sentences.append(sentence)\n",
        "\n",
        "count = sentences_with_digits_count(sentences)\n",
        "print(f\"Предложений с цифрой = {count}\")"
      ],
      "metadata": {
        "colab": {
          "base_uri": "https://localhost:8080/"
        },
        "id": "7n4zBy3KyFhe",
        "outputId": "67b2c6c1-485b-49d6-9c11-ed73407d9898"
      },
      "execution_count": 9,
      "outputs": [
        {
          "output_type": "stream",
          "name": "stdout",
          "text": [
            "Введите количество предложений: 3\n",
            "Введите предложение №1:\n",
            "Просто текст\n",
            "Введите предложение №2:\n",
            "Текст 1\n",
            "Введите предложение №3:\n",
            "Тут нет цифр\n",
            "Предложений с цифрой = 1\n"
          ]
        }
      ]
    },
    {
      "cell_type": "code",
      "source": [
        "# Задание 3.8\n",
        "\n",
        "def print_with_border(string, char):\n",
        "    \"\"\"Вывести строку в рамке из заданного символа.\n",
        "\n",
        "    Параметры:\n",
        "        string (str): строка для обрамления\n",
        "        char (str): символ для рамки\n",
        "    \"\"\"\n",
        "    border = char * (len(string) + 2)\n",
        "    print(border)\n",
        "    print(f\"{char}{string}{char}\")\n",
        "    print(border)\n",
        "\n",
        "\n",
        "s = input(\"Введите строку: \")\n",
        "k = input(\"Введите символ: \")\n",
        "\n",
        "print_with_border(s, k)"
      ],
      "metadata": {
        "colab": {
          "base_uri": "https://localhost:8080/"
        },
        "id": "8dZB4LMbyFnd",
        "outputId": "91d1a891-d5c3-4493-cf57-ae2fac700525"
      },
      "execution_count": 10,
      "outputs": [
        {
          "output_type": "stream",
          "name": "stdout",
          "text": [
            "Введите строку: Просто текст\n",
            "Введите символ: +\n",
            "++++++++++++++\n",
            "+Просто текст+\n",
            "++++++++++++++\n"
          ]
        }
      ]
    },
    {
      "cell_type": "code",
      "source": [
        "# Задание 3.9\n",
        "\n",
        "LETTERS_EX = {10: \"A\", 11: \"B\", 12: \"C\", 13: \"D\", 14: \"E\", 15: \"F\"}\n",
        "DIGITS_EX = {\"A\": 10, \"B\": 11, \"C\": 12, \"D\": 13, \"E\": 14, \"F\": 15}\n",
        "\n",
        "\n",
        "def to_base(number, base):\n",
        "    \"\"\"Преобразовать десятичное число 'number' в с.с. 'base'.\n",
        "\n",
        "    Параметры:\n",
        "        number (int): десятичное число;\n",
        "        base (int): система счисления.\n",
        "\n",
        "    Результат:\n",
        "        str: число в с.с. 'base'.\n",
        "    \"\"\"\n",
        "    if number == 0:\n",
        "        return \"0\"\n",
        "\n",
        "    digits = []\n",
        "    is_negative = number < 0\n",
        "    number = abs(number)\n",
        "\n",
        "    while number > 0:\n",
        "        remainder = number % base\n",
        "        if remainder >= 10:\n",
        "            digits.append(LETTERS_EX[remainder])\n",
        "        else:\n",
        "            digits.append(str(remainder))\n",
        "        number = number // base\n",
        "\n",
        "    if is_negative:\n",
        "        digits.append('-')\n",
        "\n",
        "    return ''.join(reversed(digits))\n",
        "\n",
        "\n",
        "def from_base(number_str, base):\n",
        "    \"\"\"Преобразовать число 'number_str' из с.с. 'base' в десятичное.\n",
        "\n",
        "    Параметры:\n",
        "        number_str (str): число в исходной с.с.;\n",
        "        base (int): система счисления исходного числа.\n",
        "\n",
        "    Результат:\n",
        "        int: число в 10-й с.с.\n",
        "    \"\"\"\n",
        "    number_str = number_str.upper()\n",
        "    is_negative = number_str.startswith('-')\n",
        "    if is_negative:\n",
        "        number_str = number_str[1:]\n",
        "\n",
        "    result = 0\n",
        "    for i, char in enumerate(reversed(number_str)):\n",
        "        if char.isdigit():\n",
        "            digit = int(char)\n",
        "        else:\n",
        "            digit = DIGITS_EX[char]\n",
        "\n",
        "        if digit >= base:\n",
        "            raise ValueError(f\"Digit {char} is invalid for base {base}\")\n",
        "\n",
        "        result += digit * (base ** i)\n",
        "\n",
        "    return -result if is_negative else result\n",
        "\n",
        "\n",
        "# Пример использования\n",
        "print(to_base(255, 16))  # Вывод: FF\n",
        "print(from_base(\"FF\", 16))  # Вывод: 255\n",
        "print(to_base(42, 2))  # Вывод: 101010\n",
        "print(from_base(\"101010\", 2))  # Вывод: 42"
      ],
      "metadata": {
        "colab": {
          "base_uri": "https://localhost:8080/"
        },
        "id": "bryNkHewyFt_",
        "outputId": "1f0f021d-a4fa-4f05-db41-cf4adf8e9a84"
      },
      "execution_count": 11,
      "outputs": [
        {
          "output_type": "stream",
          "name": "stdout",
          "text": [
            "FF\n",
            "255\n",
            "101010\n",
            "42\n"
          ]
        }
      ]
    },
    {
      "cell_type": "code",
      "source": [
        "# Задание 3.10\n",
        "\n",
        "def sentence_stats(sentence):\n",
        "    \"\"\"Вернуть символьную статистику 'sentence'. Регистр не учитывается.\n",
        "\n",
        "    Параметры:\n",
        "        sentence (str): предложение для анализа\n",
        "\n",
        "    Результат:\n",
        "        dict: словарь с символами и их количеством\n",
        "    \"\"\"\n",
        "    stats = {}\n",
        "    for char in sentence.lower():\n",
        "        if char in stats:\n",
        "            stats[char] += 1\n",
        "        else:\n",
        "            stats[char] = 1\n",
        "    return stats\n",
        "\n",
        "\n",
        "s = input(\"Введите предложение: \")\n",
        "result = sentence_stats(s)\n",
        "print(result)"
      ],
      "metadata": {
        "colab": {
          "base_uri": "https://localhost:8080/"
        },
        "id": "cA-qwz89yF1R",
        "outputId": "ffde2f1b-1ef2-437a-9e8e-653e878c04de"
      },
      "execution_count": 12,
      "outputs": [
        {
          "output_type": "stream",
          "name": "stdout",
          "text": [
            "Введите предложение: Мама МЫла РамУ\n",
            "{'м': 4, 'а': 4, ' ': 2, 'ы': 1, 'л': 1, 'р': 1, 'у': 1}\n"
          ]
        }
      ]
    },
    {
      "cell_type": "code",
      "source": [
        "# Задание 3.11\n",
        "\n",
        "def ceasar(text, shift):\n",
        "    \"\"\"Вернуть измененную строку 'text' со сдвигом 'shift'.\n",
        "\n",
        "    Параметры:\n",
        "        - text (str): строка;\n",
        "        - shift (int): сдвиг.\n",
        "\n",
        "    Результат:\n",
        "        str: измененная строка.\n",
        "    \"\"\"\n",
        "    # Набор кириллических букв (строчные и прописные)\n",
        "    lower_letters = [chr(i) for i in range(ord('а'), ord('я') + 1)]\n",
        "    upper_letters = [chr(i) for i in range(ord('А'), ord('Я') + 1)]\n",
        "    result = []\n",
        "\n",
        "    for char in text:\n",
        "        if char in lower_letters:\n",
        "            # Шифруем строчные буквы\n",
        "            index = (lower_letters.index(char) + shift) % 32\n",
        "            result.append(lower_letters[index])\n",
        "        elif char in upper_letters:\n",
        "            # Шифруем прописные буквы\n",
        "            index = (upper_letters.index(char) + shift) % 32\n",
        "            result.append(upper_letters[index])\n",
        "        else:\n",
        "            # Оставляем другие символы без изменений\n",
        "            result.append(char)\n",
        "    return ''.join(result)\n",
        "\n",
        "\n",
        "text = input(\"Введите предложение: \")\n",
        "shift = int(input(\"Введите сдвиг: \"))\n",
        "\n",
        "encoded = ceasar(text, shift)\n",
        "decoded = ceasar(encoded, -shift)  # Расшифровка - обратный сдвиг\n",
        "\n",
        "print(\"Зашифрованная строка:\", encoded)\n",
        "print(\"Расшифрованная строка:\", decoded)"
      ],
      "metadata": {
        "colab": {
          "base_uri": "https://localhost:8080/"
        },
        "id": "_GrbAzhMyF7W",
        "outputId": "427db891-64cf-4f63-cb64-7e777ae840d9"
      },
      "execution_count": 13,
      "outputs": [
        {
          "output_type": "stream",
          "name": "stdout",
          "text": [
            "Введите предложение: ПрограММиРОВание С++\n",
            "Введите сдвиг: 4\n",
            "Зашифрованная строка: УфтзфдРРмФТЖдсмй Х++\n",
            "Расшифрованная строка: ПрограММиРОВание С++\n"
          ]
        }
      ]
    },
    {
      "cell_type": "code",
      "source": [
        "# Задание 3.12\n",
        "\n",
        "data = [\n",
        "    {1: 'м', 2: 'м', 3: 'м', 4: 'ж'},\n",
        "    {1: 'ж', 2: 'м', 3: 'ж', 4: 'ж'},\n",
        "    {1: 'ж', 2: 'ж', 3: 'ж', 4: 'ж'},\n",
        "    {1: 'м', 2: 'м', 3: 'м', 4: 'м'},\n",
        "    {1: None, 2: None, 3: None, 4: None},\n",
        "    {1: 'м', 2: None, 3: None, 4: 'ж'},\n",
        "    {1: None, 2: None, 3: None, 4: None},\n",
        "    {1: 'м', 2: 'м', 3: None, 4: 'м'},\n",
        "    {1: 'ж', 2: None, 3: None, 4: 'ж'}\n",
        "]\n",
        "\n",
        "def vacant_compartments(data):\n",
        "    \"\"\"Вернуть список полностью свободных купе.\"\"\"\n",
        "    return [i+1 for i, comp in enumerate(data) if all(v is None for v in comp.values())]\n",
        "\n",
        "def vacant_seats(data, compartments_condition=None, seat_condition=None):\n",
        "    \"\"\"Вернуть список свободных мест с учетом условий.\"\"\"\n",
        "    result = []\n",
        "    for i, comp in enumerate(data):\n",
        "        compartment_num = i + 1\n",
        "        if compartments_condition is None or compartments_condition(comp):\n",
        "            for seat, value in comp.items():\n",
        "                if value is None and (seat_condition is None or seat_condition(seat, value)):\n",
        "                    result.append((compartment_num, seat))\n",
        "    return result\n",
        "\n",
        "def is_same_sex_and_vacant(compartment, sex):\n",
        "    \"\"\"Проверить, что в купе только указанный пол и есть свободные места.\"\"\"\n",
        "    has_vacant = any(v is None for v in compartment.values())\n",
        "    same_sex = all(v in (sex, None) for v in compartment.values())\n",
        "    has_passengers = any(v is not None for v in compartment.values())\n",
        "    return has_vacant and same_sex and has_passengers\n",
        "\n",
        "# список полностью свободных купе\n",
        "print(vacant_compartments(data))\n",
        "# список свободных мест в вагоне\n",
        "print(vacant_seats(data))\n",
        "# список свободных нижних мест\n",
        "print(vacant_seats(data, seat_condition=lambda seat, value: seat % 2 != 0))\n",
        "# список свободных верхних мест\n",
        "print(vacant_seats(data, seat_condition=lambda seat, value: seat % 2 == 0))\n",
        "# список свободных мест в купе с исключительно мужской компанией\n",
        "print(vacant_seats(data, lambda x: is_same_sex_and_vacant(x, \"м\")))\n",
        "# список свободных мест в купе с исключительно женской компанией\n",
        "print(vacant_seats(data, lambda x: is_same_sex_and_vacant(x, \"ж\")))"
      ],
      "metadata": {
        "colab": {
          "base_uri": "https://localhost:8080/"
        },
        "id": "XN-SkkHDyGBw",
        "outputId": "38e11267-d1b3-4c3b-e073-cb7f05e06955"
      },
      "execution_count": 14,
      "outputs": [
        {
          "output_type": "stream",
          "name": "stdout",
          "text": [
            "[5, 7]\n",
            "[(5, 1), (5, 2), (5, 3), (5, 4), (6, 2), (6, 3), (7, 1), (7, 2), (7, 3), (7, 4), (8, 3), (9, 2), (9, 3)]\n",
            "[(5, 1), (5, 3), (6, 3), (7, 1), (7, 3), (8, 3), (9, 3)]\n",
            "[(5, 2), (5, 4), (6, 2), (7, 2), (7, 4), (9, 2)]\n",
            "[(8, 3)]\n",
            "[(9, 2), (9, 3)]\n"
          ]
        }
      ]
    },
    {
      "cell_type": "code",
      "source": [
        "# Задание 3.13\n",
        "\n",
        "votes = [\n",
        "    2, 3, -1, 2, 5, 1, 1, 4, 1, 1, 1, 3, 1, 3, 5, -1, 5, 2, 5, 5,\n",
        "    3, 3, 2, 3, 3, 2, 2, 1, 3, 2, 5, 2, 2, 4, 1, 1, 3, 2, 2, 3, 3,\n",
        "    3, 1, 4, 2, 1, 4, 2, 3, 3, 3, -1, 5, 3, 1, 4, 5, 1, 1, 3, 3,\n",
        "    3, -1, 5, 3, 3, 2, 5, 1, 1, 5, -1, 1, 2, 2, 3, -1, 4, 2, 5, 4,\n",
        "    2, -1, 3, 1, 4, 3, 5, 4, 1, 5, 3, 2, 4, 2, 1, 3, 4, 1, 1, 3, 4\n",
        "]\n",
        "\n",
        "parties = {\n",
        "    1: \"Партия №1\", 2: \"Партия №2\", 3: \"Партия №3\",\n",
        "    4: \"Партия №4\", 5: \"Партия №5\", -1: \"Испорчено\"\n",
        "}\n",
        "\n",
        "def parties_votes(parties, votes):\n",
        "    \"\"\"Вернуть информацию о голосах, отданных за партии.\"\"\"\n",
        "    result = {name: 0 for name in parties.values()}\n",
        "    for vote in votes:\n",
        "        result[parties[vote]] += 1\n",
        "    return result\n",
        "\n",
        "def print_results(votes_for_p):\n",
        "    \"\"\"Вывести результаты голосования в отсортированном виде.\"\"\"\n",
        "    # Удаляем испорченные бланки из основной статистики\n",
        "    spoiled = votes_for_p.pop(\"Испорчено\")\n",
        "    total_valid = sum(votes_for_p.values())\n",
        "    total_all = total_valid + spoiled\n",
        "\n",
        "    # Сортируем партии по убыванию голосов\n",
        "    sorted_parties = sorted(votes_for_p.items(), key=lambda x: -x[1])\n",
        "\n",
        "    # Выводим результаты для партий\n",
        "    for i, (party, count) in enumerate(sorted_parties, 1):\n",
        "        percentage = (count / total_all) * 100\n",
        "        print(f\"{i}. {party} | {count:2d} | {percentage:5.2f}%\")\n",
        "\n",
        "    # Выводим испорченные бланки\n",
        "    if spoiled > 0:\n",
        "        spoiled_percentage = (spoiled / total_all) * 100\n",
        "        print(f\"{len(sorted_parties)+1}. Испорчено | {spoiled:2d} | {spoiled_percentage:5.2f}%\")\n",
        "\n",
        "print_results(parties_votes(parties, votes))"
      ],
      "metadata": {
        "colab": {
          "base_uri": "https://localhost:8080/"
        },
        "id": "Tva9WaQiyGIA",
        "outputId": "9d84f615-2f17-442b-cfa1-e488a7fb065c"
      },
      "execution_count": 15,
      "outputs": [
        {
          "output_type": "stream",
          "name": "stdout",
          "text": [
            "1. Партия №3 | 27 | 26.47%\n",
            "2. Партия №1 | 22 | 21.57%\n",
            "3. Партия №2 | 20 | 19.61%\n",
            "4. Партия №5 | 14 | 13.73%\n",
            "5. Партия №4 | 12 | 11.76%\n",
            "6. Испорчено |  7 |  6.86%\n"
          ]
        }
      ]
    },
    {
      "cell_type": "code",
      "source": [
        "# Задание 3.14\n",
        "\n",
        "def split_numbers(*args):\n",
        "    \"\"\"Вернуть 2 списка - отрицательных и неотрицательных значений.\n",
        "\n",
        "    Параметры:\n",
        "        *args: произвольное количество числовых аргументов\n",
        "\n",
        "    Результат:\n",
        "        tuple: (отрицательные значения, неотрицательные значения)\n",
        "    \"\"\"\n",
        "    negatives = sorted([x for x in args if x < 0], reverse=True)\n",
        "    non_negatives = sorted([x for x in args if x >= 0])\n",
        "    return (negatives, non_negatives)\n",
        "\n",
        "\n",
        "print(split_numbers(1, 4, -5, 0, -33))"
      ],
      "metadata": {
        "colab": {
          "base_uri": "https://localhost:8080/"
        },
        "id": "R-rhFSUsyGOz",
        "outputId": "042af711-e3d9-40fb-a66b-7ffe1c787237"
      },
      "execution_count": 16,
      "outputs": [
        {
          "output_type": "stream",
          "name": "stdout",
          "text": [
            "([-5, -33], [0, 1, 4])\n"
          ]
        }
      ]
    },
    {
      "cell_type": "code",
      "source": [
        "# Задание 3.15\n",
        "\n",
        "def gdp(c, i, g, ex, im):\n",
        "    \"\"\"Вернуть значение ВВП.\n",
        "\n",
        "    Параметры:\n",
        "        c (int): конечное потребление\n",
        "        i (int): валовое накопление капитала\n",
        "        g (int): государственные расходы\n",
        "        ex (int): экспорт\n",
        "        im (int): импорт\n",
        "\n",
        "    Результат:\n",
        "        int: значение ВВП\n",
        "    \"\"\"\n",
        "    return c + i + g + ex - im\n",
        "\n",
        "\n",
        "# Ввод данных с клавиатуры\n",
        "print(\"Введите показатели для расчета ВВП:\")\n",
        "info_dict = {\n",
        "    'c': int(input(\"Конечное потребление: \")),\n",
        "    'i': int(input(\"Валовое накопление капитала: \")),\n",
        "    'g': int(input(\"Государственные расходы: \")),\n",
        "    'ex': int(input(\"Экспорт: \")),\n",
        "    'im': int(input(\"Импорт: \"))\n",
        "}\n",
        "\n",
        "# Создаем список из значений словаря в нужном порядке\n",
        "info_list = [info_dict['c'], info_dict['i'], info_dict['g'],\n",
        "             info_dict['ex'], info_dict['im']]\n",
        "\n",
        "# Расчет ВВП разными способами\n",
        "gdp_from_dict = gdp(**info_dict)  # Распаковка словаря\n",
        "gdp_from_list = gdp(*info_list)   # Распаковка списка\n",
        "\n",
        "# Вывод результатов\n",
        "print(f\"ВВП = {gdp_from_dict}\")\n",
        "print(f\"ВВП = {gdp_from_list}\")"
      ],
      "metadata": {
        "colab": {
          "base_uri": "https://localhost:8080/"
        },
        "id": "yEM-T8HAyGUw",
        "outputId": "fb3fdc40-935d-43d1-e6e9-e57abdc013f5"
      },
      "execution_count": 17,
      "outputs": [
        {
          "output_type": "stream",
          "name": "stdout",
          "text": [
            "Введите показатели для расчета ВВП:\n",
            "Конечное потребление: 100\n",
            "Валовое накопление капитала: 200\n",
            "Государственные расходы: 300\n",
            "Экспорт: 400\n",
            "Импорт: 500\n",
            "ВВП = 500\n",
            "ВВП = 500\n"
          ]
        }
      ]
    },
    {
      "cell_type": "code",
      "source": [
        "# Задание 3.16\n",
        "\n",
        "def pow1(value, power):\n",
        "    \"\"\"Вернуть 'value' в степени 'power' (итеративный вариант).\n",
        "\n",
        "    Параметры:\n",
        "        value (int/float): основание степени\n",
        "        power (int): показатель степени\n",
        "\n",
        "    Результат:\n",
        "        int/float: результат возведения в степень\n",
        "    \"\"\"\n",
        "    result = 1\n",
        "    for _ in range(power):\n",
        "        result *= value\n",
        "    return result\n",
        "\n",
        "\n",
        "def pow2(value, power):\n",
        "    \"\"\"Вернуть 'value' в степени 'power' (рекурсивный вариант).\n",
        "\n",
        "    Параметры:\n",
        "        value (int/float): основание степени\n",
        "        power (int): показатель степени\n",
        "\n",
        "    Результат:\n",
        "        int/float: результат возведения в степень\n",
        "    \"\"\"\n",
        "    if power == 0:\n",
        "        return 1\n",
        "    return value * pow2(value, power - 1)\n",
        "\n",
        "\n",
        "print(pow1(5, 3))\n",
        "print(pow2(5, 3))"
      ],
      "metadata": {
        "colab": {
          "base_uri": "https://localhost:8080/"
        },
        "id": "4lmh6afpyGca",
        "outputId": "eee4a489-8a8f-4f84-991d-00178ad39682"
      },
      "execution_count": 18,
      "outputs": [
        {
          "output_type": "stream",
          "name": "stdout",
          "text": [
            "125\n",
            "125\n"
          ]
        }
      ]
    },
    {
      "cell_type": "code",
      "source": [
        "# Задание 3.17\n",
        "\n",
        "def digits_sum(value):\n",
        "    \"\"\"Вернуть сумму цифр числа 'value'. Рекурсивная реализация.\n",
        "\n",
        "    Параметры:\n",
        "        value (int): натуральное число\n",
        "\n",
        "    Результат:\n",
        "        int: сумма цифр числа\n",
        "    \"\"\"\n",
        "    if value < 10:\n",
        "        return value\n",
        "    return value % 10 + digits_sum(value // 10)\n",
        "\n",
        "\n",
        "def digits_count(value):\n",
        "    \"\"\"Вернуть количество цифр числа 'value'. Рекурсивная реализация.\n",
        "\n",
        "    Параметры:\n",
        "        value (int): натуральное число\n",
        "\n",
        "    Результат:\n",
        "        int: количество цифр в числе\n",
        "    \"\"\"\n",
        "    if value < 10:\n",
        "        return 1\n",
        "    return 1 + digits_count(value // 10)\n",
        "\n",
        "\n",
        "print(digits_sum(12345))\n",
        "print(digits_count(12345))"
      ],
      "metadata": {
        "colab": {
          "base_uri": "https://localhost:8080/"
        },
        "id": "HffdyJL-yGnH",
        "outputId": "8a13bf21-bc13-469f-8ede-d126d5cae78a"
      },
      "execution_count": 19,
      "outputs": [
        {
          "output_type": "stream",
          "name": "stdout",
          "text": [
            "15\n",
            "5\n"
          ]
        }
      ]
    }
  ]
}