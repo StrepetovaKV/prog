{
  "nbformat": 4,
  "nbformat_minor": 0,
  "metadata": {
    "colab": {
      "provenance": [],
      "authorship_tag": "ABX9TyOjVKGDDm9f/CWv0sF1SHxP",
      "include_colab_link": true
    },
    "kernelspec": {
      "name": "python3",
      "display_name": "Python 3"
    },
    "language_info": {
      "name": "python"
    }
  },
  "cells": [
    {
      "cell_type": "markdown",
      "metadata": {
        "id": "view-in-github",
        "colab_type": "text"
      },
      "source": [
        "<a href=\"https://colab.research.google.com/github/StrepetovaKV/prog/blob/main/%D0%BB%D0%B0%D0%B1%D0%B0_3_3.ipynb\" target=\"_parent\"><img src=\"https://colab.research.google.com/assets/colab-badge.svg\" alt=\"Open In Colab\"/></a>"
      ]
    },
    {
      "cell_type": "code",
      "execution_count": 4,
      "metadata": {
        "id": "_MsBmaZF6kRA"
      },
      "outputs": [],
      "source": [
        "# Задание 3.3.1\n",
        "\n",
        "\"\"\"\n",
        "Ошибки (номера строк через пробел): 7 8 10\n",
        "\"\"\"\n",
        "\n",
        "def sum_of_digits(n):\n",
        "    \"\"\"Вернуть сумму цифр меньших 5 для положительного целого числа `n`.\n",
        "    Если таких цифр нет, вернуть 0.\"\"\"\n",
        "    c = 0\n",
        "    while n > 0:\n",
        "        digit = n % 10\n",
        "        if digit < 5:\n",
        "            c = c + digit\n",
        "        n //= 10\n",
        "    return c"
      ]
    },
    {
      "cell_type": "code",
      "source": [
        "# Задание 3.3.2\n",
        "\n",
        "\"\"\"\n",
        "Ошибки (номера строк через пробел): 6 9\n",
        "\"\"\"\n",
        "\n",
        "def primes(a, b):\n",
        "    \"\"\"Вернуть список простых чисел на отрезке от 'a' до 'b'.\"\"\"\n",
        "    res = []\n",
        "    for i in range(a, b):\n",
        "        c = 0\n",
        "        for j in range(1, i + 1):\n",
        "            if i % j == 0:\n",
        "                c += 1\n",
        "        if c == 2:\n",
        "            res.append(i)\n",
        "    return res"
      ],
      "metadata": {
        "id": "ocTR1ojK64IL"
      },
      "execution_count": 5,
      "outputs": []
    },
    {
      "cell_type": "code",
      "source": [
        "# Задание 3.3.3\n",
        "\n",
        "\"\"\"\n",
        "Ошибки (номера строк через пробел): 16 22\n",
        "\"\"\"\n",
        "\n",
        "def first_vacant_row(seats):\n",
        "    \"\"\"Вернуть первый ряд, в котором имеется больше всего\n",
        "    свободных мест и их количество.\n",
        "\n",
        "    Возвращаемая нумерация рядов с 1. Если свободных мест нет, вернуть 0, 0.\n",
        "    \"\"\"\n",
        "    max_count = 0\n",
        "    max_row = 0\n",
        "    for row_index, row in enumerate(seats):\n",
        "        available_seats_count = row.count(0)\n",
        "        if available_seats_count > max_count:\n",
        "            max_row = row_index\n",
        "            max_count = available_seats_count\n",
        "\n",
        "    if max_count == 0:\n",
        "        return 0, 0\n",
        "\n",
        "    return max_row + 1, max_count"
      ],
      "metadata": {
        "id": "QZVMnsAY64NF"
      },
      "execution_count": 6,
      "outputs": []
    },
    {
      "cell_type": "code",
      "source": [
        "# Задание 3.3.4\n",
        "\n",
        "\"\"\"\n",
        "Ошибки (номера строк через пробел): 6 8\n",
        "\"\"\"\n",
        "\n",
        "def min_pair(nums):\n",
        "    \"\"\"Вернуть минимальную сумму соседних 2-х чисел в списке 'nums'.\"\"\"\n",
        "    min_sum = nums[0] + nums[1]\n",
        "    for i in range(1, len(nums) - 1):\n",
        "        pair_sum = nums[i] + nums[i + 1]\n",
        "        min_sum = min(pair_sum, min_sum)\n",
        "\n",
        "    return min_sum"
      ],
      "metadata": {
        "id": "RaHYYihX64Sk"
      },
      "execution_count": 7,
      "outputs": []
    },
    {
      "cell_type": "code",
      "source": [
        "# Задание 3.3.5\n",
        "\n",
        "\"\"\"\n",
        "Ошибки (номера строк через пробел): 7\n",
        "\"\"\"\n",
        "\n",
        "def non_negatives(nums):\n",
        "    \"\"\"Удалить из списка чисел 'nums' отрицательные элементы и вернуть\n",
        "    измененный список.\"\"\"\n",
        "    nums[:] = [x for x in nums if x >= 0]\n",
        "    return nums"
      ],
      "metadata": {
        "id": "WthssC4264Xz"
      },
      "execution_count": 8,
      "outputs": []
    },
    {
      "cell_type": "code",
      "source": [
        "# Задание 3.3.6\n",
        "\n",
        "\"\"\"\n",
        "Ошибки (номера строк через пробел): 13 14 15\n",
        "\"\"\"\n",
        "\n",
        "def unemployment_rate(unemployed, employed):\n",
        "    \"\"\"Вернуть уровень безработицы (УБ) в долях 1.\n",
        "       Расчет по формуле: УБ = Безработные / (Занятые + Безработные).\n",
        "    \"\"\"\n",
        "    total = unemployed + employed\n",
        "    if total == 0:\n",
        "        raise ZeroDivisionError(\"Число занятых и безработных не может быть нулевым одновременно.\")\n",
        "    return unemployed / total\n",
        "\n",
        "try:\n",
        "    unemployed = int(input(\"Введите кол-во безработных (чел.): \"))\n",
        "    employed = int(input(\"Введите кол-во занятых (чел.): \"))\n",
        "    rate = unemployment_rate(unemployed, employed)\n",
        "    print(\"Уровень безработицы = {:.1%}\".format(rate))\n",
        "except ValueError:\n",
        "    print(\"Ошибка: введите целое число.\")\n",
        "except ZeroDivisionError as err:\n",
        "    print(\"Ошибка:\", err)\n",
        "except Exception as err:\n",
        "    print(\"Непредвиденная ошибка:\", err)"
      ],
      "metadata": {
        "colab": {
          "base_uri": "https://localhost:8080/"
        },
        "id": "Z_roHIkE64di",
        "outputId": "dcf06292-e7a3-4e62-b803-a1be1e05b063"
      },
      "execution_count": 9,
      "outputs": [
        {
          "output_type": "stream",
          "name": "stdout",
          "text": [
            "Введите кол-во безработных (чел.): 67\n",
            "Введите кол-во занятых (чел.): 90\n",
            "Уровень безработицы = 42.7%\n"
          ]
        }
      ]
    },
    {
      "cell_type": "code",
      "source": [
        "# Задание 3.3.7\n",
        "\n",
        "\"\"\"\n",
        "Ошибки (номера строк через пробел): 7 13 14 15\n",
        "\"\"\"\n",
        "\n",
        "def power(x, y=2):\n",
        "    \"\"\"Вернуть x^y (только для неотрицательных y).\"\"\"\n",
        "    if y < 0:\n",
        "        raise ValueError(\"Степень должна быть неотрицательной.\")\n",
        "    if y == 0:\n",
        "        return 1\n",
        "    else:\n",
        "        return x * power(x, y - 1)\n",
        "\n",
        "try:\n",
        "    x = int(input(\"x = \"))\n",
        "    y = int(input(\"y = \"))\n",
        "    print(\"Результат:\", power(x, y))\n",
        "except ValueError as err:\n",
        "    print(\"Ошибка:\", err)\n",
        "except RecursionError:\n",
        "    print(\"Ошибка: слишком большая степень, превышен лимит рекурсии.\")\n",
        "except Exception as err:\n",
        "    print(\"Непредвиденная ошибка:\", err)"
      ],
      "metadata": {
        "colab": {
          "base_uri": "https://localhost:8080/"
        },
        "id": "JMdesOSg64iv",
        "outputId": "68eb5cc1-00cc-42fb-f3f7-10375c28a309"
      },
      "execution_count": 10,
      "outputs": [
        {
          "output_type": "stream",
          "name": "stdout",
          "text": [
            "x = 4\n",
            "y = -1\n",
            "Ошибка: Степень должна быть неотрицательной.\n"
          ]
        }
      ]
    },
    {
      "cell_type": "code",
      "source": [
        "# Задание 3.3.8\n",
        "\n",
        "\"\"\"\n",
        "Ошибки (номера строк через пробел): 9 13 16\n",
        "\"\"\"\n",
        "\n",
        "# Дан список ФИО. Найти наиболее часто встречаемое отчество.\n",
        "# Если отчества нет, человек не учитывается в подсчете.\n",
        "\n",
        "try:\n",
        "    n = int(input(\"Введите кол-во человек: \"))\n",
        "    middle_names = {}\n",
        "    for i in range(n):\n",
        "        fio = input(f\"Введите ФИО #{i + 1} через пробел: \").split()\n",
        "        if len(fio) >= 3:\n",
        "            middle_name = fio[2]\n",
        "            middle_names[middle_name] = middle_names.get(middle_name, 0) + 1\n",
        "        else:\n",
        "            print(\"Внимание: введены не все части ФИО, человек не учтен.\")\n",
        "\n",
        "    if middle_names:\n",
        "        most_common = sorted(middle_names.items(), key=lambda item: item[1])[-1][0]\n",
        "        print(\"Наиболее часто встречаемое отчество:\", most_common)\n",
        "        print(\"В расчете участвовало человек:\", sum(middle_names.values()))\n",
        "    else:\n",
        "        print(\"Ни одного отчества не было указано.\")\n",
        "except ValueError:\n",
        "    print(\"Ошибка: введите корректное число.\")\n",
        "except Exception as err:\n",
        "    print(\"Непредвиденная ошибка:\", err)"
      ],
      "metadata": {
        "colab": {
          "base_uri": "https://localhost:8080/"
        },
        "id": "6eksmAmm64oS",
        "outputId": "6ae9100f-ce9e-4400-8db1-5434fbb0eeeb"
      },
      "execution_count": 12,
      "outputs": [
        {
          "output_type": "stream",
          "name": "stdout",
          "text": [
            "Введите кол-во человек: 1\n",
            "Введите ФИО #1 через пробел: Степанов Иван Викторович\n",
            "Наиболее часто встречаемое отчество: Викторович\n",
            "В расчете участвовало человек: 1\n"
          ]
        }
      ]
    },
    {
      "cell_type": "code",
      "source": [
        "# Задание 3.3.9\n",
        "\n",
        "\"\"\"\n",
        "Ошибки (номера строк через пробел): 8 17 21\n",
        "\"\"\"\n",
        "\n",
        "def f(x):\n",
        "    \"\"\"Вернуть значение функции.\"\"\"\n",
        "    return x**2 / (x + 2) - 3\n",
        "\n",
        "try:\n",
        "    k = int(input(\"Введите границу интервала [-k; k]: \"))\n",
        "    h = float(input(\"Введите шаг табуляции: \"))\n",
        "except ValueError:\n",
        "    print(\"Ошибка: введите корректные числа.\")\n",
        "    exit(1)\n",
        "\n",
        "x = -k\n",
        "print(\"{:>10} {:>10}\".format(\"x\", \"f(x)\"))\n",
        "while x <= k:\n",
        "    try:\n",
        "        try:\n",
        "            y = f(x)\n",
        "        except ZeroDivisionError:\n",
        "            y = None\n",
        "\n",
        "        if y is None:\n",
        "            print(\"{:10.2f} {:>10}\".format(x, \"-\"))\n",
        "        else:\n",
        "            print(\"{:10.2f} {:10.2f}\".format(x, y))\n",
        "    except Exception as err:\n",
        "        print(\"{:10.2f} {:>10}\".format(x, \"-\"))\n",
        "    x += h"
      ],
      "metadata": {
        "colab": {
          "base_uri": "https://localhost:8080/"
        },
        "id": "w9exB8JW64uP",
        "outputId": "f4a72baf-c861-4a38-a98d-6b1e5ed7d659"
      },
      "execution_count": 1,
      "outputs": [
        {
          "output_type": "stream",
          "name": "stdout",
          "text": [
            "Введите границу интервала [-k; k]: 2\n",
            "Введите шаг табуляции: 3\n",
            "         x       f(x)\n",
            "     -2.00          -\n",
            "      1.00      -2.67\n"
          ]
        }
      ]
    },
    {
      "cell_type": "code",
      "source": [
        "# Задание 3.3.10\n",
        "\n",
        "\"\"\"\n",
        "Ошибки (номера строк через пробел): 26 27 34\n",
        "\"\"\"\n",
        "\n",
        "необходимые_экзамены = {\n",
        "    \"Информатика\": 80,\n",
        "    \"Математика\": 85,\n",
        "    \"Русский язык\": 75\n",
        "}\n",
        "\n",
        "print(\"\"\"Для определения возможности поступления, необходима информация о Вас.\n",
        "\n",
        "Для ввода экзамена и баллов введите их через |: Химия | 40.\n",
        "Для завершения ввода нажмите Enter.\n",
        "\"\"\")\n",
        "\n",
        "сданные_экзамены = {}\n",
        "while True:\n",
        "    ввод = input(\"\").strip()\n",
        "    if ввод == \"\":\n",
        "        break\n",
        "    try:\n",
        "        экзамен, балл = [x.strip() for x in ввод.split(\"|\")]\n",
        "        сданные_экзамены[экзамен] = int(балл)\n",
        "    except (ValueError, IndexError):\n",
        "        print(\"Ошибка ввода! Введите экзамен и баллы через '|', например: Химия | 40\")\n",
        "\n",
        "print(\"Ваши экзамены:\")\n",
        "for i, (экзамен, балл) in enumerate(сданные_экзамены.items(), start=1):\n",
        "    print(f\"{i}) {экзамен} {балл}\")\n",
        "\n",
        "ok = False\n",
        "try:\n",
        "    for необходимый_экзамен, баллы in необходимые_экзамены.items():\n",
        "        if сданные_экзамены.get(необходимый_экзамен, -1) < баллы:\n",
        "            break\n",
        "    else:\n",
        "        ok = True\n",
        "except Exception as err:\n",
        "    print(\"Ошибка при проверке экзаменов:\", err)\n",
        "\n",
        "print(\"Вы можете к нам поступить!\" if ok else \"Увы...\")"
      ],
      "metadata": {
        "colab": {
          "base_uri": "https://localhost:8080/"
        },
        "id": "cw8VPRjU64zN",
        "outputId": "cdbff957-b187-4a16-efc4-d149473b6608"
      },
      "execution_count": 2,
      "outputs": [
        {
          "output_type": "stream",
          "name": "stdout",
          "text": [
            "Для определения возможности поступления, необходима информация о Вас.\n",
            "\n",
            "Для ввода экзамена и баллов введите их через |: Химия | 40.\n",
            "Для завершения ввода нажмите Enter.\n",
            "\n",
            "40\n",
            "Ошибка ввода! Введите экзамен и баллы через '|', например: Химия | 40\n",
            "Физика | 20\n",
            "Химия | 40\n",
            "2\n",
            "Ошибка ввода! Введите экзамен и баллы через '|', например: Химия | 40\n",
            "Математика | 100\n",
            "Русский | 100\n",
            "\n",
            "Ваши экзамены:\n",
            "1) Физика 20\n",
            "2) Химия 40\n",
            "3) Математика 100\n",
            "4) Русский 100\n",
            "Увы...\n"
          ]
        }
      ]
    },
    {
      "cell_type": "code",
      "source": [
        "# Задание 3.3.11\n",
        "\n",
        "class NoMoneyToWithdrawError(Exception):\n",
        "    def __init__(self, message):\n",
        "        super().__init__(message)\n",
        "\n",
        "class PaymentError(Exception):\n",
        "    def __init__(self, message):\n",
        "        super().__init__(message)\n",
        "\n",
        "def print_accounts(accounts):\n",
        "    \"\"\"Печать аккаунтов.\"\"\"\n",
        "    print(\"Список клиентов ({}): \".format(len(accounts)))\n",
        "    for i, (name, value) in enumerate(accounts.items(), start=1):\n",
        "        print(\"{}. {} {}\".format(i, name, value))\n",
        "\n",
        "def transfer_money(accounts, account_from, account_to, value):\n",
        "    \"\"\"Выполнить перевод 'value' денег со счета 'account_from' на 'account_to'.\"\"\"\n",
        "    if account_from not in accounts:\n",
        "        raise PaymentError(f\"Аккаунт отправителя '{account_from}' не найден.\")\n",
        "    if account_to not in accounts:\n",
        "        raise PaymentError(f\"Аккаунт получателя '{account_to}' не найден.\")\n",
        "    if value <= 0:\n",
        "        raise PaymentError(\"Сумма перевода должна быть положительной.\")\n",
        "\n",
        "    # Проверяем достаточно ли денег на счёте отправителя\n",
        "    if accounts[account_from] < value:\n",
        "        raise NoMoneyToWithdrawError(\"Недостаточно средств для перевода.\")\n",
        "\n",
        "    # Запоминаем исходные балансы для отката при ошибке\n",
        "    from_balance_before = accounts[account_from]\n",
        "    to_balance_before = accounts[account_to]\n",
        "\n",
        "    try:\n",
        "        accounts[account_from] -= value  # Снимаем деньги\n",
        "        # Имитируем возможную ошибку здесь, если нужно\n",
        "        accounts[account_to] += value    # Зачисляем деньги\n",
        "    except Exception as e:\n",
        "        # Откат изменений при ошибке\n",
        "        accounts[account_from] = from_balance_before\n",
        "        accounts[account_to] = to_balance_before\n",
        "        raise PaymentError(f\"Ошибка при переводе: {e}\")\n",
        "\n",
        "if __name__ == \"__main__\":\n",
        "    accounts = {\n",
        "        \"Василий Иванов\": 100,\n",
        "        \"Екатерина Белых\": 1500,\n",
        "        \"Михаил Лермонтов\": 400\n",
        "    }\n",
        "    print_accounts(accounts)\n",
        "\n",
        "    payment_info = {\n",
        "        \"account_from\": \"Екатерина Белых\",\n",
        "        \"account_to\": \"Василий Иванов\"\n",
        "    }\n",
        "\n",
        "    print(\"Перевод от {account_from} для {account_to}...\".\n",
        "          format(**payment_info))\n",
        "\n",
        "    try:\n",
        "        payment_info[\"value\"] = int(input(\"Сумма = \"))\n",
        "        transfer_money(accounts, **payment_info)\n",
        "    except NoMoneyToWithdrawError as e:\n",
        "        print(\"Ошибка:\", e)\n",
        "    except PaymentError as e:\n",
        "        print(\"Ошибка:\", e)\n",
        "    except ValueError:\n",
        "        print(\"Ошибка: сумма должна быть целым числом.\")\n",
        "    else:\n",
        "        print(\"OK!\")\n",
        "        print_accounts(accounts)"
      ],
      "metadata": {
        "colab": {
          "base_uri": "https://localhost:8080/"
        },
        "id": "YFvsOlsJ8pZ5",
        "outputId": "8d43cced-d879-43e8-b032-c212b8752ff2"
      },
      "execution_count": 3,
      "outputs": [
        {
          "output_type": "stream",
          "name": "stdout",
          "text": [
            "Список клиентов (3): \n",
            "1. Василий Иванов 100\n",
            "2. Екатерина Белых 1500\n",
            "3. Михаил Лермонтов 400\n",
            "Перевод от Екатерина Белых для Василий Иванов...\n",
            "Сумма = 500\n",
            "OK!\n",
            "Список клиентов (3): \n",
            "1. Василий Иванов 600\n",
            "2. Екатерина Белых 1000\n",
            "3. Михаил Лермонтов 400\n"
          ]
        }
      ]
    }
  ]
}