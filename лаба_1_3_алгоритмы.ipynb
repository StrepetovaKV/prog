{
  "nbformat": 4,
  "nbformat_minor": 0,
  "metadata": {
    "colab": {
      "provenance": [],
      "authorship_tag": "ABX9TyOx6ml6h2rU7dhvsLWJpgoY",
      "include_colab_link": true
    },
    "kernelspec": {
      "name": "python3",
      "display_name": "Python 3"
    },
    "language_info": {
      "name": "python"
    }
  },
  "cells": [
    {
      "cell_type": "markdown",
      "metadata": {
        "id": "view-in-github",
        "colab_type": "text"
      },
      "source": [
        "<a href=\"https://colab.research.google.com/github/StrepetovaKV/prog/blob/main/%D0%BB%D0%B0%D0%B1%D0%B0_1_3_%D0%B0%D0%BB%D0%B3%D0%BE%D1%80%D0%B8%D1%82%D0%BC%D1%8B.ipynb\" target=\"_parent\"><img src=\"https://colab.research.google.com/assets/colab-badge.svg\" alt=\"Open In Colab\"/></a>"
      ]
    },
    {
      "cell_type": "code",
      "execution_count": null,
      "metadata": {
        "colab": {
          "base_uri": "https://localhost:8080/"
        },
        "id": "OD8E7V3_J19-",
        "outputId": "cef0010d-c5a3-4974-9d76-f3cb8021274c"
      },
      "outputs": [
        {
          "output_type": "stream",
          "name": "stdout",
          "text": [
            "1\n",
            "2\n",
            "3\n",
            "4\n",
            "5\n"
          ]
        }
      ],
      "source": [
        "# Вариант 18\n",
        "\n",
        "def generate_numbers(n):\n",
        "    if n > 0:\n",
        "        generate_numbers(n - 1)\n",
        "        print(n)\n",
        "\n",
        "# Пример использования\n",
        "if __name__ == \"__main__\":\n",
        "    N = 5\n",
        "    generate_numbers(N)"
      ]
    },
    {
      "cell_type": "markdown",
      "source": [
        "Пояснение к коду:\n",
        "\n",
        "Функция generate_numbers(n):\n",
        "\n",
        "Базовый случай: Если n меньше или равно 0, рекурсия не продолжается.\n",
        "\n",
        "Рекурсивный случай: Функция вызывает сама себя для значения n-1, что позволяет пройти по всем числам до 1, а затем печатает текущее значение n.\n",
        "\n",
        "Основной блок:\n",
        "\n",
        "Вводим значение N — количество чисел, которые нужно вывести.\n",
        "\n",
        "Вызываем функцию generate_numbers и выводим числа от 1 до N.\n",
        "\n",
        "Оценка сложности алгоритма:\n",
        "\n",
        "Временная сложность: O(N), так как функция вызывает себя N раз (по одному для каждого числа от 1 до N).\n",
        "\n",
        "Пространственная сложность: O(N), так как для каждого рекурсивного вызова функция будет занимать место в стеке вызовов.\n",
        "\n",
        "Таким образом, рекурсивный алгоритм для генерации последовательности чисел имеет линейную временную и пространственную сложность."
      ],
      "metadata": {
        "id": "GCPY_TB4KBUY"
      }
    }
  ]
}