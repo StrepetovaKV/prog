{
  "nbformat": 4,
  "nbformat_minor": 0,
  "metadata": {
    "colab": {
      "provenance": [],
      "authorship_tag": "ABX9TyOHK8k19dmvgrNE7AKm2o/E",
      "include_colab_link": true
    },
    "kernelspec": {
      "name": "python3",
      "display_name": "Python 3"
    },
    "language_info": {
      "name": "python"
    }
  },
  "cells": [
    {
      "cell_type": "markdown",
      "metadata": {
        "id": "view-in-github",
        "colab_type": "text"
      },
      "source": [
        "<a href=\"https://colab.research.google.com/github/StrepetovaKV/prog/blob/main/%D0%BB%D0%B0%D0%B1%D0%B0_2_2_%D0%B0%D0%BB%D0%B3%D0%BE%D1%80%D0%B8%D1%82%D0%BC%D1%8B.ipynb\" target=\"_parent\"><img src=\"https://colab.research.google.com/assets/colab-badge.svg\" alt=\"Open In Colab\"/></a>"
      ]
    },
    {
      "cell_type": "code",
      "execution_count": 1,
      "metadata": {
        "colab": {
          "base_uri": "https://localhost:8080/"
        },
        "id": "qN-YzS1zez_c",
        "outputId": "f5a49f51-f70b-47eb-ed58-89eab4b961c2"
      },
      "outputs": [
        {
          "output_type": "stream",
          "name": "stdout",
          "text": [
            "Элемент 33 найден.\n",
            "Дерево после удаления 22 (inorder): [20, 25, 31, 33, 37, 40]\n",
            "Отсортированный массив на куче: [20, 22, 25, 31, 33, 37, 40]\n"
          ]
        }
      ],
      "source": [
        "# Класс для узла бинарного дерева\n",
        "class Node:\n",
        "    def __init__(self, key):\n",
        "        self.left = None\n",
        "        self.right = None\n",
        "        self.value = key\n",
        "\n",
        "# Вставка элемента в бинарное дерево\n",
        "def insert(root, key):\n",
        "    if root is None:\n",
        "        return Node(key)\n",
        "    else:\n",
        "        if key < root.value:\n",
        "            root.left = insert(root.left, key)\n",
        "        else:\n",
        "            root.right = insert(root.right, key)\n",
        "    return root\n",
        "\n",
        "# Поиск элемента в бинарном дереве\n",
        "def search(root, key):\n",
        "    if root is None or root.value == key:\n",
        "        return root\n",
        "    if key < root.value:\n",
        "        return search(root.left, key)\n",
        "    return search(root.right, key)\n",
        "\n",
        "# Найти минимальный элемент в дереве\n",
        "def minValueNode(node):\n",
        "    current = node\n",
        "    while current.left is not None:\n",
        "        current = current.left\n",
        "    return current\n",
        "\n",
        "# Удаление элемента из бинарного дерева\n",
        "def deleteNode(root, key):\n",
        "    if root is None:\n",
        "        return root\n",
        "    if key < root.value:\n",
        "        root.left = deleteNode(root.left, key)\n",
        "    elif key > root.value:\n",
        "        root.right = deleteNode(root.right, key)\n",
        "    else:\n",
        "        if root.left is None:\n",
        "            return root.right\n",
        "        elif root.right is None:\n",
        "            return root.left\n",
        "        temp = minValueNode(root.right)\n",
        "        root.value = temp.value\n",
        "        root.right = deleteNode(root.right, temp.value)\n",
        "    return root\n",
        "\n",
        "# Обход дерева в порядке \"inorder\"\n",
        "def inorder(root, result):\n",
        "    if root:\n",
        "        inorder(root.left, result)\n",
        "        result.append(root.value)\n",
        "        inorder(root.right, result)\n",
        "\n",
        "# Построение кучи\n",
        "def heapify(arr, n, i):\n",
        "    largest = i\n",
        "    left = 2 * i + 1\n",
        "    right = 2 * i + 2\n",
        "    if left < n and arr[left] > arr[largest]:\n",
        "        largest = left\n",
        "    if right < n and arr[right] > arr[largest]:\n",
        "        largest = right\n",
        "    if largest != i:\n",
        "        arr[i], arr[largest] = arr[largest], arr[i]\n",
        "        heapify(arr, n, largest)\n",
        "\n",
        "# Сортировка на куче\n",
        "def heapSort(arr):\n",
        "    n = len(arr)\n",
        "    for i in range(n // 2 - 1, -1, -1):\n",
        "        heapify(arr, n, i)\n",
        "    for i in range(n - 1, 0, -1):\n",
        "        arr[i], arr[0] = arr[0], arr[i]\n",
        "        heapify(arr, i, 0)\n",
        "\n",
        "# Главная программа\n",
        "if __name__ == \"__main__\":\n",
        "    # 1. Построение бинарного дерева\n",
        "    elements = [31, 22, 37, 20, 25, 33, 40]\n",
        "    root = None\n",
        "    for element in elements:\n",
        "        root = insert(root, element)\n",
        "\n",
        "    # 2. Поиск элемента 33\n",
        "    found = search(root, 33)\n",
        "    if found:\n",
        "        print(f\"Элемент {found.value} найден.\")\n",
        "    else:\n",
        "        print(\"Элемент не найден.\")\n",
        "\n",
        "    # 3. Удаление элемента 22\n",
        "    root = deleteNode(root, 22)\n",
        "    result_inorder = []\n",
        "    inorder(root, result_inorder)\n",
        "    print(\"Дерево после удаления 22 (inorder):\", result_inorder)\n",
        "\n",
        "    # 4. Сортировка на куче\n",
        "    arr = [31, 22, 37, 20, 25, 33, 40]\n",
        "    heapSort(arr)\n",
        "    print(\"Отсортированный массив на куче:\", arr)\n"
      ]
    }
  ]
}