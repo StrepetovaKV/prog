{
  "nbformat": 4,
  "nbformat_minor": 0,
  "metadata": {
    "colab": {
      "provenance": [],
      "include_colab_link": true
    },
    "kernelspec": {
      "name": "python3",
      "display_name": "Python 3"
    },
    "language_info": {
      "name": "python"
    }
  },
  "cells": [
    {
      "cell_type": "markdown",
      "metadata": {
        "id": "view-in-github",
        "colab_type": "text"
      },
      "source": [
        "<a href=\"https://colab.research.google.com/github/StrepetovaKV/prog/blob/main/Untitled3.ipynb\" target=\"_parent\"><img src=\"https://colab.research.google.com/assets/colab-badge.svg\" alt=\"Open In Colab\"/></a>"
      ]
    },
    {
      "cell_type": "code",
      "execution_count": 4,
      "metadata": {
        "colab": {
          "base_uri": "https://localhost:8080/"
        },
        "id": "KpOm9za_MzSs",
        "outputId": "e0bccbe6-17ed-4f59-ec97-d63121031ed9"
      },
      "outputs": [
        {
          "output_type": "stream",
          "name": "stdout",
          "text": [
            "Введите число x: -10\n",
            "-0.1\n"
          ]
        }
      ],
      "source": [
        "# Задание 2.1\n",
        "\n",
        "x = float(input('Введите число x: '))\n",
        "\n",
        "if x >= 0:\n",
        "  f = x ** 0.5 + x ** 2\n",
        "else:\n",
        "  f = 1 / x\n",
        "\n",
        "print(round(f, 2))"
      ]
    },
    {
      "cell_type": "code",
      "source": [
        "# Задание 2.2\n",
        "\n",
        "a1 = int(input('Введите первое число: '))\n",
        "a2 = int(input('Введите второе число: '))\n",
        "\n",
        "# Переменная 'a_min' должна содержать минимум, 'a_max' - максимум\n",
        "if a1 > a2:\n",
        "  a_min = a2\n",
        "  a_max = a1\n",
        "else:\n",
        "  a_min = a1\n",
        "  a_max = a2\n",
        "\n",
        "print('Максимум: {}, минимум: {}'.format(a_max, a_min))"
      ],
      "metadata": {
        "id": "MGpMZi1YMzzS",
        "colab": {
          "base_uri": "https://localhost:8080/"
        },
        "outputId": "67f6ac40-14f3-40dd-b788-a694411ba5c5"
      },
      "execution_count": 7,
      "outputs": [
        {
          "output_type": "stream",
          "name": "stdout",
          "text": [
            "Введите первое число: 1\n",
            "Введите второе число: 2\n",
            "Максимум: 2, минимум: 1\n"
          ]
        }
      ]
    },
    {
      "cell_type": "code",
      "source": [
        "# Задание 2.3\n",
        "\n",
        "a = int(input('Ширина форточки: '))\n",
        "b = int(input('Высота форточки: '))\n",
        "d = int(input('Диаметр головы: ' ))\n",
        "\n",
        "# Введенные числа должны быть положительными, если так - осуществляем\n",
        "# расчет, иначе выводим \"Проверьте ввод\"\n",
        "if a >= 0 and b >= 0 and d >= 0:\n",
        "  fix = 1  # Зазор\n",
        "  if a - d >= fix and b - d >= fix:\n",
        "    print('Да')\n",
        "  else:\n",
        "    print('Нет')\n",
        "else:\n",
        "  print('Проверьте ввод!')"
      ],
      "metadata": {
        "id": "gIwhJiWFMz5j",
        "colab": {
          "base_uri": "https://localhost:8080/"
        },
        "outputId": "b5cdebdd-9976-49ad-ae45-a8064ae49544"
      },
      "execution_count": 9,
      "outputs": [
        {
          "output_type": "stream",
          "name": "stdout",
          "text": [
            "Ширина форточки: 5\n",
            "Высота форточки: 6\n",
            "Диаметр головы: 7\n",
            "Нет\n"
          ]
        }
      ]
    },
    {
      "cell_type": "code",
      "source": [
        "# Задание 2.4\n",
        "\n",
        "year_today = int(input('Введите текущий год: '))\n",
        "month_today = int(input('Введите текущий месяц: '))\n",
        "\n",
        "year = int(input('Введите год рождения: '))\n",
        "month = int(input('Введите месяц рождения: '))\n",
        "\n",
        "# Считается, введенные значения находятся в допустимых пределах,и что 'month_today' >= 'month' (проверять значения не нужно)\n",
        "# Результат необходимо записать в переменную 'age'\n",
        "if month_today < month:\n",
        "  age = year_today - year - 1\n",
        "else:\n",
        "  age = year_today - year\n",
        "print('Число полных лет: ', age)"
      ],
      "metadata": {
        "id": "MgUv5CdVM0An",
        "colab": {
          "base_uri": "https://localhost:8080/"
        },
        "outputId": "34288006-a959-4620-8815-767faf5cb594"
      },
      "execution_count": 11,
      "outputs": [
        {
          "output_type": "stream",
          "name": "stdout",
          "text": [
            "Введите текущий год: 2017\n",
            "Введите текущий месяц: 5\n",
            "Введите год рождения: 2000\n",
            "Введите месяц рождения: 1\n",
            "Число полных лет:  17\n"
          ]
        }
      ]
    },
    {
      "cell_type": "code",
      "source": [
        "# Задание 2.5\n",
        "\n",
        "x = int(input('Введите координату x: '))\n",
        "y = int(input('Введите координату y: '))\n",
        "\n",
        "if x > 0 and y > 0:\n",
        "  print('1-я четверть')\n",
        "elif x < 0 and y > 0:\n",
        "  print('2-я четверть')\n",
        "elif x < 0 and y < 0:\n",
        "  print('3-я четверть')\n",
        "else:\n",
        "  print('4-я четверть')"
      ],
      "metadata": {
        "id": "x70jpH5GM0GV",
        "colab": {
          "base_uri": "https://localhost:8080/"
        },
        "outputId": "b7cf2c93-9fc3-4b8b-ef84-0ba7259a0ea4"
      },
      "execution_count": 14,
      "outputs": [
        {
          "output_type": "stream",
          "name": "stdout",
          "text": [
            "Введите координату x: 5\n",
            "Введите координату y: 7\n",
            "1-я четверть\n"
          ]
        }
      ]
    },
    {
      "cell_type": "code",
      "source": [
        "# Задание 2.6\n",
        "\n",
        "a = int(input('a = '))\n",
        "b = int(input('b = '))\n",
        "c = int(input('c = '))\n",
        "\n",
        "# Расчет дискриминанта\n",
        "d = b ** 2 - 4 * a * c\n",
        "\n",
        "# Вывод решения в зависимости от значения дискриминанта\n",
        "# При выводе значений оставьте 1 знак после запятой\n",
        "if d > 0:\n",
        "  x1 = (-b - d ** 0.5) / (2 * a)\n",
        "  x2 = (-b + d ** 0.5) / (2 * a)\n",
        "  print('x1 = {}, x2 = {}'.format(round(x1, 1), round(x2, 1)))\n",
        "elif d == 0:\n",
        "  x = (-b) / (2 * a)\n",
        "  print('x =', round(x, 1))\n",
        "else:\n",
        "  print('Решений нет')"
      ],
      "metadata": {
        "id": "WrioZZ5yM0MU",
        "colab": {
          "base_uri": "https://localhost:8080/"
        },
        "outputId": "c7571fe1-741f-4cd3-918d-adaae8a58f15"
      },
      "execution_count": 16,
      "outputs": [
        {
          "output_type": "stream",
          "name": "stdout",
          "text": [
            "a = 1\n",
            "b = 2\n",
            "c = 3\n",
            "Решений нет\n"
          ]
        }
      ]
    },
    {
      "cell_type": "code",
      "source": [
        "# Задание 2.7\n",
        "\n",
        "nums_sum = 0  # сумма\n",
        "nums_count = 0  # количество\n",
        "\n",
        "x = int(input('Введите 1-е число: '))\n",
        "nums_sum = nums_sum + x\n",
        "while x != 0:\n",
        "  x = int(input('Введите {}-е число: '.format(nums_count + 2)))\n",
        "  nums_sum = nums_sum + x\n",
        "  nums_count = nums_count + 1\n",
        "print('Сумма =', nums_sum)\n",
        "print('Количество =', nums_count)"
      ],
      "metadata": {
        "id": "G8OOHF1SM0SH",
        "colab": {
          "base_uri": "https://localhost:8080/"
        },
        "outputId": "1d5d654b-2f27-45a7-d661-e96ea6baa657"
      },
      "execution_count": 18,
      "outputs": [
        {
          "output_type": "stream",
          "name": "stdout",
          "text": [
            "Введите 1-е число: 1\n",
            "Введите 2-е число: 2\n",
            "Введите 3-е число: 3\n",
            "Введите 4-е число: 4\n",
            "Введите 5-е число: 0\n",
            "Сумма = 10\n",
            "Количество = 4\n"
          ]
        }
      ]
    },
    {
      "cell_type": "code",
      "source": [
        "# Задание 2.8\n",
        "\n",
        "n = int(input('n = '))\n",
        "x = 0\n",
        "while x <= n:\n",
        "  print(x)\n",
        "  x = x + 5"
      ],
      "metadata": {
        "id": "a6RJeyZ-M0XQ",
        "colab": {
          "base_uri": "https://localhost:8080/"
        },
        "outputId": "72060afd-ca47-4bd8-e608-024e4b87afc6"
      },
      "execution_count": 20,
      "outputs": [
        {
          "output_type": "stream",
          "name": "stdout",
          "text": [
            "n = 12\n",
            "0\n",
            "5\n",
            "10\n"
          ]
        }
      ]
    },
    {
      "cell_type": "code",
      "source": [
        "# Задание 2.9\n",
        "\n",
        "a = float(input('a = '))\n",
        "n = 1\n",
        "x_sum = 0\n",
        "while x_sum <= a:\n",
        "  x_sum += 1 / n\n",
        "  n += 1\n",
        "print('n =', n - 1)"
      ],
      "metadata": {
        "id": "z4TlEg3hM0cj",
        "colab": {
          "base_uri": "https://localhost:8080/"
        },
        "outputId": "1d71f4fe-4d42-4035-d36e-7f2f64382f64"
      },
      "execution_count": 22,
      "outputs": [
        {
          "output_type": "stream",
          "name": "stdout",
          "text": [
            "a = 1.5\n",
            "n = 3\n"
          ]
        }
      ]
    },
    {
      "cell_type": "code",
      "source": [
        "# Задание 2.10\n",
        "\n",
        "n = int(input('n = '))\n",
        "n_sum = 0\n",
        "n_count = 0\n",
        "while n > 0:\n",
        "  n_sum = n_sum + n % 10  # Добавляем последнюю цифру к сумме\n",
        "  n_count = n_count + 1 # Увеличиваем счетчик цифр\n",
        "  n = n // 10  # Убираем последнюю цифру\n",
        "\n",
        "print('Сумма =', n_sum)\n",
        "print('Количество =', n_count)"
      ],
      "metadata": {
        "id": "kt10n3ljM0hq",
        "colab": {
          "base_uri": "https://localhost:8080/"
        },
        "outputId": "0b082160-3362-477b-d8a8-257dd9454220"
      },
      "execution_count": 24,
      "outputs": [
        {
          "output_type": "stream",
          "name": "stdout",
          "text": [
            "n = 12345678\n",
            "Сумма = 36\n",
            "Количество = 8\n"
          ]
        }
      ]
    },
    {
      "cell_type": "code",
      "source": [
        "# Задание 2.11\n",
        "\n",
        "start = int(input('start = '))\n",
        "k = int(input('k = '))\n",
        "s = int(input('s = '))\n",
        "count = 0\n",
        "while count < 10:\n",
        "  if start % 10 == k and start % s == 0:\n",
        "      print(start, end=' ')\n",
        "      count = count + 1\n",
        "  start = start + 1"
      ],
      "metadata": {
        "id": "KHzaT7dXM0nK",
        "colab": {
          "base_uri": "https://localhost:8080/"
        },
        "outputId": "e01bd28a-f2c4-4339-849c-1aea0c66ba44"
      },
      "execution_count": 26,
      "outputs": [
        {
          "output_type": "stream",
          "name": "stdout",
          "text": [
            "start = 100\n",
            "k = 7\n",
            "s = 9\n",
            "117 207 297 387 477 567 657 747 837 927 "
          ]
        }
      ]
    },
    {
      "cell_type": "code",
      "source": [
        "# Задание 2.12\n",
        "\n",
        "a = int(input('a = '))\n",
        "b = int(input('b = '))\n",
        "\n",
        "if a < b:\n",
        "  for num in range(a, b + 1):\n",
        "    print(num, end=' ')\n",
        "  print()\n",
        "  for num in range(b, a - 1, -1):\n",
        "    print(num)\n",
        "else:\n",
        "  for num in range(b, a + 1):\n",
        "    print(num, end=' ')\n",
        "  print()\n",
        "  for num in range(a, b - 1, -1):\n",
        "    print(num)"
      ],
      "metadata": {
        "id": "MwudXhjcM0s5",
        "colab": {
          "base_uri": "https://localhost:8080/"
        },
        "outputId": "2320195c-11ef-4c08-aa66-bacf21b7139f"
      },
      "execution_count": 28,
      "outputs": [
        {
          "output_type": "stream",
          "name": "stdout",
          "text": [
            "a = 1\n",
            "b = 5\n",
            "1 2 3 4 5 \n",
            "5\n",
            "4\n",
            "3\n",
            "2\n",
            "1\n"
          ]
        }
      ]
    },
    {
      "cell_type": "code",
      "source": [
        "from os import path\n",
        "# Задание 2.13\n",
        "\n",
        "a = int(input('a = '))\n",
        "b = int(input('b = '))\n",
        "\n",
        "s = 0 # Сумма чисел\n",
        "p = 1 # Произведение чисел\n",
        "sg = 1 # Среднее геометрическое\n",
        "cn = 0 # Количество нечетных чисел\n",
        "\n",
        "for x in range(a, b + 1):\n",
        "  s = s + x\n",
        "  p = p * x\n",
        "  if x % 2 != 0:\n",
        "    sg = sg * x\n",
        "    cn = cn + 1\n",
        "\n",
        "sa = s / (b - a + 1)\n",
        "\n",
        "if cn > 0:\n",
        "  sg = sg ** (1 / cn)\n",
        "else:\n",
        "  sg = 0\n",
        "\n",
        "print('Сумма =', s)\n",
        "print('Произведение =', p)\n",
        "print('Среднее арифметическое = {:.2f}'.format(sa))\n",
        "print('Среднее геометрическое нечетных чисел = {:.2f}'.format(sg))"
      ],
      "metadata": {
        "id": "F1C4aUIIM0yF",
        "colab": {
          "base_uri": "https://localhost:8080/"
        },
        "outputId": "7eb09275-e12a-45ed-b233-8e57c8a9d479"
      },
      "execution_count": 30,
      "outputs": [
        {
          "output_type": "stream",
          "name": "stdout",
          "text": [
            "a = 1\n",
            "b = 5\n",
            "Сумма = 15\n",
            "Произведение = 120\n",
            "Среднее арифметическое = 3.00\n",
            "Среднее геометрическое нечетных чисел = 2.47\n"
          ]
        }
      ]
    },
    {
      "cell_type": "code",
      "source": [
        "# Задание 2.14\n",
        "\n",
        "s = float(input('Пробег за 1-й день (км.) = '))\n",
        "p = float(input('На сколько увеличивает пробег (%) = '))\n",
        "\n",
        "total = s\n",
        "for day in range(2, 11):\n",
        "  s = s * (1 + p / 100)\n",
        "  total = total + s\n",
        "  print('Пробег за {}-й день: {:.1f} км.'.format(day, s))\n",
        "print('Суммарный пробег: {:.1f} км.'.format(total))"
      ],
      "metadata": {
        "id": "83M-R5_xM04E",
        "colab": {
          "base_uri": "https://localhost:8080/"
        },
        "outputId": "b24141f8-87f9-499a-ce63-a96cc4688173"
      },
      "execution_count": 32,
      "outputs": [
        {
          "output_type": "stream",
          "name": "stdout",
          "text": [
            "Пробег за 1-й день (км.) = 5\n",
            "На сколько увеличивает пробег (%) = 10\n",
            "Пробег за 2-й день: 5.5 км.\n",
            "Пробег за 3-й день: 6.1 км.\n",
            "Пробег за 4-й день: 6.7 км.\n",
            "Пробег за 5-й день: 7.3 км.\n",
            "Пробег за 6-й день: 8.1 км.\n",
            "Пробег за 7-й день: 8.9 км.\n",
            "Пробег за 8-й день: 9.7 км.\n",
            "Пробег за 9-й день: 10.7 км.\n",
            "Пробег за 10-й день: 11.8 км.\n",
            "Суммарный пробег: 79.7 км.\n"
          ]
        }
      ]
    },
    {
      "cell_type": "code",
      "source": [
        "# Задание 2.15\n",
        "\n",
        "p = float(input('Грузоподъемность грузовика (кг.) = '))\n",
        "n = int(input('Количество предметов = '))\n",
        "\n",
        "total = 0\n",
        "for i in range(1, n + 1):\n",
        "  m = float(input('Масса {}-го предмета (кг.) = '.format(i)))\n",
        "  total = total + m\n",
        "\n",
        "if total <= p:\n",
        "  print('Да')\n",
        "else:\n",
        "  print('Нет')"
      ],
      "metadata": {
        "id": "Ze7XT858M0-G",
        "colab": {
          "base_uri": "https://localhost:8080/"
        },
        "outputId": "a3887433-44b7-4955-a18d-9f89fd58bf3b"
      },
      "execution_count": 34,
      "outputs": [
        {
          "output_type": "stream",
          "name": "stdout",
          "text": [
            "Грузоподъемность грузовика (кг.) = 10\n",
            "Количество предметов = 2\n",
            "Масса 1-го предмета (кг.) = 3\n",
            "Масса 2-го предмета (кг.) = 3\n",
            "Да\n"
          ]
        }
      ]
    },
    {
      "cell_type": "code",
      "source": [
        "# Задание 2.16\n",
        "\n",
        "n = int(input('Количество районов = '))\n",
        "\n",
        "total = 0\n",
        "for i in range(1, n + 1):\n",
        "  p = float(input('Площадь {}-го района (га) = '.format(i)))  # Площадь района\n",
        "  u = float(input('Урожайность в {}-м районе (ц/га.) = '.format(i)))  # Урожайность в районе\n",
        "  total += p * u  # Суммируем пшеницу, собранную в этом районе\n",
        "\n",
        "print('Собрано пшеницы: {:.1f} ц.'.format(total))"
      ],
      "metadata": {
        "id": "J6yzwcmVM1El",
        "colab": {
          "base_uri": "https://localhost:8080/"
        },
        "outputId": "db263d16-cd9e-4359-fbea-8bce1612bece"
      },
      "execution_count": 37,
      "outputs": [
        {
          "output_type": "stream",
          "name": "stdout",
          "text": [
            "Количество районов = 3\n",
            "Площадь 1-го района (га) = 4\n",
            "Урожайность в 1-м районе (ц/га.) = 7\n",
            "Площадь 2-го района (га) = 3\n",
            "Урожайность в 2-м районе (ц/га.) = 9\n",
            "Площадь 3-го района (га) = 4\n",
            "Урожайность в 3-м районе (ц/га.) = 5\n",
            "Собрано пшеницы: 75.0 ц.\n"
          ]
        }
      ]
    },
    {
      "cell_type": "code",
      "source": [
        "# Задание 2.17\n",
        "\n",
        "nums_sum = 0  # сумма\n",
        "nums_count = 0  # количество\n",
        "x = int(input('Введите 1-е число: '))\n",
        "nums_sum = nums_sum + x  # Добавляем первое число к сумме\n",
        "\n",
        "while True:\n",
        "  if x == 0:\n",
        "    break\n",
        "  nums_count = nums_count + 1\n",
        "  x = int(input('Введите {}-е число: '.format(nums_count + 1)))\n",
        "  nums_sum += x\n",
        "\n",
        "print('Сумма =', nums_sum)\n",
        "print('Количество =', nums_count)"
      ],
      "metadata": {
        "id": "wj7-dy8hM1Kq",
        "colab": {
          "base_uri": "https://localhost:8080/"
        },
        "outputId": "4cd922f0-e743-4097-eab7-646725e61e2e"
      },
      "execution_count": 39,
      "outputs": [
        {
          "output_type": "stream",
          "name": "stdout",
          "text": [
            "Введите 1-е число: 1\n",
            "Введите 2-е число: 2\n",
            "Введите 3-е число: 3\n",
            "Введите 4-е число: 4\n",
            "Введите 5-е число: 0\n",
            "Сумма = 10\n",
            "Количество = 4\n"
          ]
        }
      ]
    },
    {
      "cell_type": "code",
      "source": [
        "# Задание 2.18\n",
        "\n",
        "sentence = input(\"Введите предложение: \")\n",
        "\n",
        "count_gl = 0  # Кол-во гласных\n",
        "count_sogl = 0  # Кол-во согласных\n",
        "\n",
        "gl = 'аеёиоуыэюя'\n",
        "sogl = 'бвгджзклмнпрстфхцчшщ'\n",
        "for x in sentence:\n",
        "  if x == ' ':\n",
        "    continue\n",
        "  if x.lower() in gl:\n",
        "    count_gl += 1\n",
        "  elif x.lower() in sogl:\n",
        "    count_sogl += 1\n",
        "\n",
        "print('Кол-во букв в предложении: гласных - {}, согласных - {}'.format(count_gl, count_sogl))"
      ],
      "metadata": {
        "id": "aG714WKQM1Q0",
        "colab": {
          "base_uri": "https://localhost:8080/"
        },
        "outputId": "44869715-bc62-4f65-f1e1-d08b6d0f6f27"
      },
      "execution_count": 41,
      "outputs": [
        {
          "output_type": "stream",
          "name": "stdout",
          "text": [
            "Введите предложение: Программирование\n",
            "Кол-во букв в предложении: гласных - 7, согласных - 9\n"
          ]
        }
      ]
    },
    {
      "cell_type": "code",
      "source": [
        "# Задание 2.19\n",
        "\n",
        "a = int(input('a = '))\n",
        "b = int(input('b = '))\n",
        "c = int(input('c = '))\n",
        "\n",
        "for x in range(a, b + 1):\n",
        "  if x % c == 0:\n",
        "    print(x, end=' ')"
      ],
      "metadata": {
        "id": "Oije4iU0M1Xz",
        "colab": {
          "base_uri": "https://localhost:8080/"
        },
        "outputId": "d9c3d5f2-2cba-4705-90e7-571b2b5fb847"
      },
      "execution_count": 43,
      "outputs": [
        {
          "output_type": "stream",
          "name": "stdout",
          "text": [
            "a = 1\n",
            "b = 10\n",
            "c = 2\n",
            "2 4 6 8 10 "
          ]
        }
      ]
    },
    {
      "cell_type": "code",
      "source": [
        "# Задание 2.20\n",
        "\n",
        "n = int(input('n = '))\n",
        "\n",
        "for x in range(100, 1000):\n",
        "  a = x // 100\n",
        "  b = (x // 10) % 10\n",
        "  c = x % 10\n",
        "  if a + b + c == n:\n",
        "    print(x, end=' ')"
      ],
      "metadata": {
        "id": "nuxaeQrnM1eF",
        "colab": {
          "base_uri": "https://localhost:8080/"
        },
        "outputId": "67a9fe62-10cb-4ec0-aaab-43582f7aaf51"
      },
      "execution_count": 44,
      "outputs": [
        {
          "output_type": "stream",
          "name": "stdout",
          "text": [
            "n = 3\n",
            "102 111 120 201 210 300 "
          ]
        }
      ]
    },
    {
      "cell_type": "code",
      "source": [
        "# Задание 2.21\n",
        "\n",
        "n = int(input('n = '))\n",
        "r_sr_m = 0.0\n",
        "r_sr_d = 0.0\n",
        "c_b = 0  # Количество мальчиков\n",
        "c_g = 0  # Количество девочек\n",
        "\n",
        "for x in range(1, n + 1):\n",
        "  height = int(input('Рост {}-го ученика = '.format(x)))\n",
        "  if height < 0:\n",
        "    r_sr_m = r_sr_m - height\n",
        "    c_b = c_b + 1\n",
        "  else:\n",
        "    r_sr_d = r_sr_d + height\n",
        "    c_g = c_g + 1\n",
        "if c_b > 0:\n",
        "  r_sr_m /= c_b\n",
        "if c_g > 0:\n",
        "  r_sr_d /= c_g\n",
        "\n",
        "print(\"Средний рост мальчиков: {:.1f}\".format(r_sr_m))\n",
        "print(\"Средний рост девочек: {:.1f}\".format(r_sr_d))"
      ],
      "metadata": {
        "id": "LnH9JDGEM1kp",
        "colab": {
          "base_uri": "https://localhost:8080/"
        },
        "outputId": "2e747600-bdfb-4cd9-a053-5dfc0a527284"
      },
      "execution_count": 47,
      "outputs": [
        {
          "output_type": "stream",
          "name": "stdout",
          "text": [
            "n = 5\n",
            "Рост 1-го ученика = 150\n",
            "Рост 2-го ученика = -150\n",
            "Рост 3-го ученика = 160\n",
            "Рост 4-го ученика = 170\n",
            "Рост 5-го ученика = 180\n",
            "Средний рост мальчиков: 150.0\n",
            "Средний рост девочек: 165.0\n"
          ]
        }
      ]
    },
    {
      "cell_type": "code",
      "source": [
        "3# Задание 2.22\n",
        "\n",
        "n = int(input('n = '))\n",
        "\n",
        "a_max = None\n",
        "a_min = None\n",
        "\n",
        "for i in range(1, n + 1):\n",
        "  x = float(input('{}-е число = '.format(i)))\n",
        "  if a_max is None or x > a_max:\n",
        "    a_max = x\n",
        "\n",
        "  if a_min is None or x < a_min:\n",
        "    a_min = x\n",
        "\n",
        "\n",
        "print(\"Максимум: {:.2f}\".format(a_max))\n",
        "print(\"Минимум: {:.2f}\".format(a_min))"
      ],
      "metadata": {
        "id": "6prRXnjoM1rH",
        "colab": {
          "base_uri": "https://localhost:8080/"
        },
        "outputId": "04fce12e-48a3-43fc-928f-aa823a668ee3"
      },
      "execution_count": 50,
      "outputs": [
        {
          "output_type": "stream",
          "name": "stdout",
          "text": [
            "n = 4\n",
            "1-е число = 1.1\n",
            "2-е число = 9.66\n",
            "3-е число = 4.66\n",
            "4-е число = 3.1\n",
            "Максимум: 9.66\n",
            "Минимум: 1.10\n"
          ]
        }
      ]
    },
    {
      "cell_type": "code",
      "source": [
        "# Задание 2.23\n",
        "n = int(input('n = '))\n",
        "\n",
        "x1 = 5 * n * n + 4\n",
        "x2 = 5 * n * n - 4\n",
        "\n",
        "print(\"Является\" if (int(x1**0.5) ** 2 == x1 or int(x2**0.5) ** 2 == x2) else \"Не является\")"
      ],
      "metadata": {
        "id": "--Arf0S2M1x4",
        "colab": {
          "base_uri": "https://localhost:8080/"
        },
        "outputId": "a98a782a-7b90-4375-926c-b9a19fb85b85"
      },
      "execution_count": 52,
      "outputs": [
        {
          "output_type": "stream",
          "name": "stdout",
          "text": [
            "n = 7\n",
            "Не является\n"
          ]
        }
      ]
    },
    {
      "cell_type": "code",
      "source": [
        "# Задание 2.24\n",
        "\n",
        "n = int(input('n = '))\n",
        "\n",
        "# -1 означает, что последовательность упорядочена по возрастанию\n",
        "# Если это не так, 'index' меняется в цикле на индекс элемента,\n",
        "# нарушающего порядок\n",
        "index = -1\n",
        "\n",
        "prev = float(input(\"1-е число = \"))\n",
        "for i in range(2, n + 1):\n",
        "  x = float(input('{}-е число = '.format(i)))\n",
        "  if x <= prev:\n",
        "    index = i\n",
        "    break\n",
        "  prev = x\n",
        "\n",
        "if index == -1:\n",
        "  print(\"Является\")\n",
        "else:\n",
        "  print(index)"
      ],
      "metadata": {
        "id": "eakYpS4RM14b",
        "colab": {
          "base_uri": "https://localhost:8080/"
        },
        "outputId": "1803948b-46f9-4e92-99bb-88bc3855d278"
      },
      "execution_count": 55,
      "outputs": [
        {
          "output_type": "stream",
          "name": "stdout",
          "text": [
            "n = 3\n",
            "1-е число = 3\n",
            "2-е число = 3\n",
            "2\n"
          ]
        }
      ]
    },
    {
      "cell_type": "code",
      "source": [
        "# Задание 2.25\n",
        "\n",
        "n = int(input('n = '))\n",
        "\n",
        "for i in range(1, n + 1):\n",
        "  for j in range(1, n + 1):\n",
        "    print('{} * {} = {:2}'.format(i, j, i * j), end='  ')\n",
        "  print()"
      ],
      "metadata": {
        "id": "9t5eEVGSM1_s",
        "colab": {
          "base_uri": "https://localhost:8080/"
        },
        "outputId": "596478fc-d8a0-4926-81fb-18a0d9ad0453"
      },
      "execution_count": 60,
      "outputs": [
        {
          "output_type": "stream",
          "name": "stdout",
          "text": [
            "n = 5\n",
            "1 * 1 =  1  1 * 2 =  2  1 * 3 =  3  1 * 4 =  4  1 * 5 =  5  \n",
            "2 * 1 =  2  2 * 2 =  4  2 * 3 =  6  2 * 4 =  8  2 * 5 = 10  \n",
            "3 * 1 =  3  3 * 2 =  6  3 * 3 =  9  3 * 4 = 12  3 * 5 = 15  \n",
            "4 * 1 =  4  4 * 2 =  8  4 * 3 = 12  4 * 4 = 16  4 * 5 = 20  \n",
            "5 * 1 =  5  5 * 2 = 10  5 * 3 = 15  5 * 4 = 20  5 * 5 = 25  \n"
          ]
        }
      ]
    },
    {
      "cell_type": "code",
      "source": [
        "# Задание 2.26\n",
        "\n",
        "n = int(input('n = '))\n",
        "\n",
        "for i in range(1, n + 1):\n",
        "  x = 0\n",
        "  for j in range(1, i + 1):\n",
        "    if i % j == 0:\n",
        "      x = x + 1\n",
        "  print(i, '*' * x)"
      ],
      "metadata": {
        "id": "GTeiBLxAM2Gi",
        "colab": {
          "base_uri": "https://localhost:8080/"
        },
        "outputId": "99629aa7-8f8f-4696-fdfe-0b6adf575740"
      },
      "execution_count": 61,
      "outputs": [
        {
          "output_type": "stream",
          "name": "stdout",
          "text": [
            "n = 10\n",
            "1 *\n",
            "2 **\n",
            "3 **\n",
            "4 ***\n",
            "5 **\n",
            "6 ****\n",
            "7 **\n",
            "8 ****\n",
            "9 ***\n",
            "10 ****\n"
          ]
        }
      ]
    },
    {
      "cell_type": "code",
      "source": [
        "# Задание 2.27\n",
        "\n",
        "n = int(input('n = '))\n",
        "c = 0 # Количество найденных простых чисел\n",
        "x = 2 # Начинаем с числа 2\n",
        "while c < n:\n",
        "  prime = True\n",
        "  for i in range(2, int(x ** 0.5) + 1):\n",
        "    if x % i == 0:\n",
        "      prime = False\n",
        "      break\n",
        "  if prime:\n",
        "    print(x, end=' ')\n",
        "    c += 1\n",
        "\n",
        "  x += 1"
      ],
      "metadata": {
        "id": "M1acKS5LM2Nw",
        "colab": {
          "base_uri": "https://localhost:8080/"
        },
        "outputId": "c0066e03-f848-48a1-c13e-8d4d018f7b08"
      },
      "execution_count": 62,
      "outputs": [
        {
          "output_type": "stream",
          "name": "stdout",
          "text": [
            "n = 10\n",
            "2 3 5 7 11 13 17 19 23 29 "
          ]
        }
      ]
    },
    {
      "cell_type": "code",
      "source": [
        "# Задание 2.28\n",
        "\n",
        "k = int(input('k = '))\n",
        "\n",
        "for x in range(1, 31):\n",
        "  for y in range(1, 31):\n",
        "    for z in range(1, 31):\n",
        "      if x ** 2 + y ** 2 + z ** 2 == k ** 2:\n",
        "        print('x = {:2}, y = {:2}, z = {:2}'.format(x, y, z))"
      ],
      "metadata": {
        "id": "VGDK0U_6M2VS",
        "colab": {
          "base_uri": "https://localhost:8080/"
        },
        "outputId": "70f5d5f9-f971-496e-8d19-4acc9f57d2a1"
      },
      "execution_count": 63,
      "outputs": [
        {
          "output_type": "stream",
          "name": "stdout",
          "text": [
            "k = 30\n",
            "x =  4, y = 10, z = 28\n",
            "x =  4, y = 20, z = 22\n",
            "x =  4, y = 22, z = 20\n",
            "x =  4, y = 28, z = 10\n",
            "x = 10, y =  4, z = 28\n",
            "x = 10, y = 20, z = 20\n",
            "x = 10, y = 28, z =  4\n",
            "x = 20, y =  4, z = 22\n",
            "x = 20, y = 10, z = 20\n",
            "x = 20, y = 20, z = 10\n",
            "x = 20, y = 22, z =  4\n",
            "x = 22, y =  4, z = 20\n",
            "x = 22, y = 20, z =  4\n",
            "x = 28, y =  4, z = 10\n",
            "x = 28, y = 10, z =  4\n"
          ]
        }
      ]
    },
    {
      "cell_type": "code",
      "source": [
        "# Задание 2.29\n",
        "\n",
        "n = int(input('n = '))\n",
        "nums = [float(input('Введите {}-й элемент списка: '.format(i + 1))) for i in range(n)]\n",
        "\n",
        "nums_pos = [x for x in nums if x > 0]\n",
        "nums_neg = [x for x in nums if x < 0]\n",
        "\n",
        "sr_ar = sum(nums_pos) / len(nums_pos)\n",
        "sr_geom = (abs(nums_neg[0]) * abs(nums_neg[1])) ** (1 / len(nums_neg))\n",
        "\n",
        "print(f\"Исходный список: {nums}\")\n",
        "print(f\"Положительные числа: {nums_pos}\")\n",
        "print(f\"Отрицательные числа: {nums_neg}\")\n",
        "print(f\"Ср. арифм.: {sr_ar:.2f}\")\n",
        "print(f\"Ср. геом.: {sr_geom:.2f}\")"
      ],
      "metadata": {
        "id": "UoW-D6MnM2cl",
        "colab": {
          "base_uri": "https://localhost:8080/"
        },
        "outputId": "9a5a909c-1023-4ef9-cd88-a10a59f06a92"
      },
      "execution_count": 65,
      "outputs": [
        {
          "output_type": "stream",
          "name": "stdout",
          "text": [
            "n = 4\n",
            "Введите 1-й элемент списка: 1\n",
            "Введите 2-й элемент списка: 6\n",
            "Введите 3-й элемент списка: -10\n",
            "Введите 4-й элемент списка: -3\n",
            "Исходный список: [1.0, 6.0, -10.0, -3.0]\n",
            "Положительные числа: [1.0, 6.0]\n",
            "Отрицательные числа: [-10.0, -3.0]\n",
            "Ср. арифм.: 3.50\n",
            "Ср. геом.: 5.48\n"
          ]
        }
      ]
    },
    {
      "cell_type": "code",
      "source": [
        "# Задание 2.30\n",
        "\n",
        "# Все разделенные пробелом элементы будут преобразованы в список целых чисел\n",
        "nums = [int(item) for item in input().split()]\n",
        "\n",
        "# 1. Все положительные\n",
        "for item in nums:\n",
        "    if item <= 0:\n",
        "        all_pos_1 = False\n",
        "        break\n",
        "else:\n",
        "    all_pos_1 = True\n",
        "\n",
        "all_pos_2 = all([item > 0 for item in nums])\n",
        "\n",
        "# 2. Хотя бы 1 нулевой элемент\n",
        "for item in nums:\n",
        "    if item == 0:\n",
        "        any_zero_1 = True\n",
        "        break\n",
        "else:\n",
        "    any_zero_1 = False\n",
        "\n",
        "any_zero_2 = any([item == 0 for item in nums])\n",
        "\n",
        "# 3. Все четные\n",
        "for item in nums:\n",
        "    if item % 2 != 0:\n",
        "        all_even_1 = False\n",
        "        break\n",
        "else:\n",
        "    all_even_1 = True\n",
        "\n",
        "all_even_2 = all([item % 2 == 0 for item in nums])\n",
        "\n",
        "# 4. Хотя бы 1 нечетный элемент\n",
        "for item in nums:\n",
        "    if item % 2 != 0:\n",
        "        any_odd_1 = True\n",
        "        break\n",
        "else:\n",
        "    any_odd_1 = False\n",
        "\n",
        "any_odd_2 = any([item % 2 != 0 for item in nums])\n",
        "\n",
        "print(\"Все положительные:\", all_pos_1, all_pos_2)\n",
        "print(\"Хотя бы 1 нулевой элемент:\", any_zero_1, any_zero_2)\n",
        "print(\"Все четные:\", all_even_1, all_even_2)\n",
        "print(\"Хотя бы 1 нечетный элемент:\", any_odd_1, any_odd_2)"
      ],
      "metadata": {
        "id": "R749pAdwM2jG",
        "colab": {
          "base_uri": "https://localhost:8080/"
        },
        "outputId": "0eab1130-c976-4abe-eeb4-e385b56effca"
      },
      "execution_count": 67,
      "outputs": [
        {
          "output_type": "stream",
          "name": "stdout",
          "text": [
            "-1 1 100 0\n",
            "Все положительные: False False\n",
            "Хотя бы 1 нулевой элемент: True True\n",
            "Все четные: False False\n",
            "Хотя бы 1 нечетный элемент: True True\n"
          ]
        }
      ]
    },
    {
      "cell_type": "code",
      "source": [
        "# Задание 2.31\n",
        "\n",
        "s = input('Введите предложение = ').split()\n",
        "k = input('Введите букву = ')\n",
        "\n",
        "s = [x for x in s if k not in x.lower()]\n",
        "print(\" \".join(s))"
      ],
      "metadata": {
        "id": "qEJk1s7XM2qH",
        "colab": {
          "base_uri": "https://localhost:8080/"
        },
        "outputId": "0f18fa8c-f1f0-4b70-b802-77a4297ce42c"
      },
      "execution_count": 70,
      "outputs": [
        {
          "output_type": "stream",
          "name": "stdout",
          "text": [
            "Введите предложение = МАМА мыла РаМу\n",
            "Введите букву = р\n",
            "МАМА мыла\n"
          ]
        }
      ]
    },
    {
      "cell_type": "code",
      "source": [
        "# Задание 2.32\n",
        "\n",
        "n = int(input('Количество рядов = '))\n",
        "\n",
        "# 1. Заполнение мест\n",
        "seats = []\n",
        "for i in range(n):\n",
        "  row = [int(item) for item in input().split()]\n",
        "  seats.append(row)\n",
        "\n",
        "# 2. Всего свободных мест\n",
        "c = sum(row.count(0) for row in seats)\n",
        "print('Всего свободных мест: ', c)\n",
        "\n",
        "# 3. Ввод значений для поиска\n",
        "n_p, m_p = [int(item) for item in input(\"Введите ряд и место через пробел: \").split()]\n",
        "if 1 <= n_p <= n and 1 <= m_p <= len(seats[n_p-1]):\n",
        "  if seats[n_p - 1][m_p - 1] == 0:\n",
        "    print(\"Место свободно: True\")\n",
        "  else:\n",
        "    print(\"Место свободно: False\")\n",
        "else:\n",
        "  print(\"Такого места не существует\")"
      ],
      "metadata": {
        "id": "ikpeIUevM2w_",
        "colab": {
          "base_uri": "https://localhost:8080/"
        },
        "outputId": "0d9f7634-690d-4b5a-f876-116b833b9a06"
      },
      "execution_count": 74,
      "outputs": [
        {
          "output_type": "stream",
          "name": "stdout",
          "text": [
            "Количество рядов = 3\n",
            "0 0 0\n",
            "1 1 1\n",
            "0 0 0 0 1\n",
            "Всего свободных мест:  7\n",
            "Введите ряд и место через пробел: 1 1\n",
            "Место свободно: True\n"
          ]
        }
      ]
    },
    {
      "cell_type": "code",
      "source": [
        "# Задание 2.33\n",
        "\n",
        "n = int(input(\"Количество сотрудников = \"))\n",
        "\n",
        "employees = []\n",
        "for i in range(n):\n",
        "  employee = input().split()\n",
        "  employee[4] = int(employee[4])\n",
        "  employees.append(employee)\n",
        "\n",
        "\n",
        "# 2. Cамый «молодой» и самый «старый» сотрудник\n",
        "employee_min = employees[0]  # Начинаем с первого сотрудника\n",
        "employee_max = employees[0]  # Начинаем с первого сотрудника\n",
        "for employee in employees:\n",
        "  if employee[4] < employee_min[4]:\n",
        "    employee_min = employee\n",
        "  if employee[4] > employee_max[4]:\n",
        "    employee_max = employee\n",
        "\n",
        "print(\"Cамый \\\"молодой\\\": {}\".format(\" \".join(employee_min[:3])))\n",
        "print(\"Cамый \\\"старый\\\": {}\".format(\" \".join(employee_max[:3])))\n",
        "\n",
        "# 3. Отдельные списки мужчин и женщин\n",
        "men = [e for e in employees if e[3] == \"М\"]\n",
        "women = [e for e in employees if e[3] == \"Ж\"]\n",
        "\n",
        "k = input(\"Введите букву начала имени = \").lower()\n",
        "\n",
        "men_k_count = sum(1 for e in men if e[1].lower().startswith(k))\n",
        "women_k_count = sum(1 for e in women if e[1].lower().startswith(k))\n",
        "\n",
        "if men_k_count > women_k_count:\n",
        "  print(\"У мужчин таких имен больше\")\n",
        "elif women_k_count > men_k_count:\n",
        "  print(\"У женщин таких имен больше\")\n",
        "else:\n",
        "  print(\"Таких имен поровну у мужчин и женщин\")"
      ],
      "metadata": {
        "id": "3pp-J-7XM239",
        "colab": {
          "base_uri": "https://localhost:8080/"
        },
        "outputId": "2871e005-0c88-4f7f-ca78-232742a794f9"
      },
      "execution_count": 77,
      "outputs": [
        {
          "output_type": "stream",
          "name": "stdout",
          "text": [
            "Количество сотрудников = 3\n",
            "Петрова Анна Алексеевна Ж 5\n",
            "Семенов Николай Михайлович М 2\n",
            "Михайлов Игорь Васильевич М 3\n",
            "Cамый \"молодой\": Семенов Николай Михайлович\n",
            "Cамый \"старый\": Петрова Анна Алексеевна\n",
            "Введите букву начала имени = и\n",
            "У мужчин таких имен больше\n"
          ]
        }
      ]
    },
    {
      "cell_type": "code",
      "source": [
        "# Задание 2.34\n",
        "\n",
        "n = int(input(\"Количество банков = \"))\n",
        "\n",
        "banks = []\n",
        "for i in range(n):\n",
        "  bank_info = input(\"Введите данные о банке: \").split()\n",
        "  bank = {\n",
        "      \"name\": bank_info[0],\n",
        "      \"sum\": int(bank_info[1]),\n",
        "      \"rate\": float(bank_info[2])\n",
        "  }\n",
        "  banks.append(bank)\n",
        "\n",
        "\n",
        "# 2. Самый доступный банк (с наименьшей первоначальной суммой)\n",
        "\n",
        "min_sum_bank = banks[0]\n",
        "for bank in banks:\n",
        "  if bank[\"sum\"] < min_sum_bank[\"sum\"]:\n",
        "    min_sum_bank = bank\n",
        "\n",
        "# 3. Самый выгодный банк\n",
        "# прибыль = сумма * процент / 100\n",
        "\n",
        "max_profit_bank = banks[0]\n",
        "for bank in banks:\n",
        "  profit = bank[\"sum\"] * bank[\"rate\"] / 100\n",
        "  max_profit = max_profit_bank[\"sum\"] * max_profit_bank[\"rate\"] / 100\n",
        "  if profit > max_profit:\n",
        "    max_profit_bank = bank\n",
        "\n",
        "print(\"Самый доступный банк: {}, первоначальная сумма: {:.2f} руб.\".format(min_sum_bank[\"name\"], min_sum_bank[\"sum\"]))\n",
        "print(\"Самый выгодный банк: {}, прибыль: {:.2f} руб.\".format(max_profit_bank[\"name\"], max_profit_bank[\"sum\"] * max_profit_bank[\"rate\"] / 100))"
      ],
      "metadata": {
        "id": "PJ02N--cM2_m",
        "colab": {
          "base_uri": "https://localhost:8080/"
        },
        "outputId": "4bf6ed77-8676-4071-bb41-2f84cdfc8a9f"
      },
      "execution_count": 78,
      "outputs": [
        {
          "output_type": "stream",
          "name": "stdout",
          "text": [
            "Количество банков = 3\n",
            "Введите данные о банке: Банк_1 50000 5.2\n",
            "Введите данные о банке: Банк_2 20000 3.7\n",
            "Введите данные о банке: Банк_3 45000 6.8\n",
            "Самый доступный банк: Банк_2, первоначальная сумма: 20000.00 руб.\n",
            "Самый выгодный банк: Банк_3, прибыль: 3060.00 руб.\n"
          ]
        }
      ]
    }
  ]
}