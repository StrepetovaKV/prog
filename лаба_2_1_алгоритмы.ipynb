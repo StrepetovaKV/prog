{
  "nbformat": 4,
  "nbformat_minor": 0,
  "metadata": {
    "colab": {
      "provenance": [],
      "authorship_tag": "ABX9TyMMfxims1nDBBUK99qBuMcP",
      "include_colab_link": true
    },
    "kernelspec": {
      "name": "python3",
      "display_name": "Python 3"
    },
    "language_info": {
      "name": "python"
    }
  },
  "cells": [
    {
      "cell_type": "markdown",
      "metadata": {
        "id": "view-in-github",
        "colab_type": "text"
      },
      "source": [
        "<a href=\"https://colab.research.google.com/github/StrepetovaKV/prog/blob/main/%D0%BB%D0%B0%D0%B1%D0%B0_2_1_%D0%B0%D0%BB%D0%B3%D0%BE%D1%80%D0%B8%D1%82%D0%BC%D1%8B.ipynb\" target=\"_parent\"><img src=\"https://colab.research.google.com/assets/colab-badge.svg\" alt=\"Open In Colab\"/></a>"
      ]
    },
    {
      "cell_type": "markdown",
      "source": [
        "Вариант 18"
      ],
      "metadata": {
        "id": "zHv1ln8TY-xI"
      }
    },
    {
      "cell_type": "code",
      "source": [
        "# Матрица смежности\n",
        "def create_adjacency_matrix(edges, num_vertices):\n",
        "    matrix = [[0] * num_vertices for _ in range(num_vertices)]\n",
        "    for u, v in edges:\n",
        "        matrix[u - 1][v - 1] = 1\n",
        "        matrix[v - 1][u - 1] = 1  # Неориентированный граф\n",
        "    return matrix\n",
        "\n",
        "# Матрица инцидентности\n",
        "def create_incidence_matrix(edges, num_vertices):\n",
        "    matrix = [[0] * len(edges) for _ in range(num_vertices)]\n",
        "    for i, (u, v) in enumerate(edges):\n",
        "        matrix[u - 1][i] = 1\n",
        "        matrix[v - 1][i] = 1\n",
        "    return matrix\n",
        "\n",
        "# Компоненты связности\n",
        "def find_connected_components(adj_matrix):\n",
        "    visited = [False] * len(adj_matrix)\n",
        "    components = []\n",
        "\n",
        "    def dfs(v, comp):\n",
        "        visited[v] = True\n",
        "        comp.append(v + 1)\n",
        "        for u, connected in enumerate(adj_matrix[v]):\n",
        "            if connected and not visited[u]:\n",
        "                dfs(u, comp)\n",
        "\n",
        "    for v in range(len(adj_matrix)):\n",
        "        if not visited[v]:\n",
        "            comp = []\n",
        "            dfs(v, comp)\n",
        "            components.append(comp)\n",
        "    return components\n",
        "\n",
        "# Входные данные\n",
        "edges = [(1, 2), (1, 3), (1, 4), (4, 5)]\n",
        "num_vertices = 5\n",
        "\n",
        "# Вывод матрицы смежности\n",
        "adj_matrix = create_adjacency_matrix(edges, num_vertices)\n",
        "print(\"Матрица смежности:\")\n",
        "for row in adj_matrix:\n",
        "    print(row)\n",
        "\n",
        "# Вывод матрицы инцидентности\n",
        "inc_matrix = create_incidence_matrix(edges, num_vertices)\n",
        "print(\"\\nМатрица инцидентности:\")\n",
        "for row in inc_matrix:\n",
        "    print(row)\n",
        "\n",
        "# Вывод компонент связности\n",
        "components = find_connected_components(adj_matrix)\n",
        "print(\"\\nКомпоненты связности:\")\n",
        "for i, comp in enumerate(components, start=1):\n",
        "    print(f\"Компонента {i}: {comp}\")"
      ],
      "metadata": {
        "colab": {
          "base_uri": "https://localhost:8080/"
        },
        "id": "AqfJmgf_b1s6",
        "outputId": "8d5369ec-a649-42dd-bf4a-bf3959019d32"
      },
      "execution_count": 15,
      "outputs": [
        {
          "output_type": "stream",
          "name": "stdout",
          "text": [
            "Матрица смежности:\n",
            "[0, 1, 1, 1, 0]\n",
            "[1, 0, 0, 0, 0]\n",
            "[1, 0, 0, 0, 0]\n",
            "[1, 0, 0, 0, 1]\n",
            "[0, 0, 0, 1, 0]\n",
            "\n",
            "Матрица инцидентности:\n",
            "[1, 1, 1, 0]\n",
            "[1, 0, 0, 0]\n",
            "[0, 1, 0, 0]\n",
            "[0, 0, 1, 1]\n",
            "[0, 0, 0, 1]\n",
            "\n",
            "Компоненты связности:\n",
            "Компонента 1: [1, 2, 3, 4, 5]\n"
          ]
        }
      ]
    }
  ]
}